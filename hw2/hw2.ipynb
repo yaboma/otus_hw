{
 "cells": [
  {
   "cell_type": "code",
   "execution_count": 1,
   "metadata": {},
   "outputs": [],
   "source": [
    "kernel.silent(true)"
   ]
  },
  {
   "cell_type": "code",
   "execution_count": 2,
   "metadata": {},
   "outputs": [
    {
     "name": "stdout",
     "output_type": "stream",
     "text": [
      "Loading spark-stubs\n",
      "Getting spark JARs\n",
      "Creating SparkSession\n"
     ]
    },
    {
     "name": "stderr",
     "output_type": "stream",
     "text": [
      "Using Spark's default log4j profile: org/apache/spark/log4j-defaults.properties\n"
     ]
    },
    {
     "data": {
      "text/html": [
       "<a target=\"_blank\" href=\"http://8b91ce43a967:4040\">Spark UI</a>"
      ]
     },
     "metadata": {},
     "output_type": "display_data"
    }
   ],
   "source": [
    "\n",
    "import $ivy.`org.apache.spark::spark-mllib:2.4.5`\n",
    "\n",
    "import $ivy.`org.apache.spark::spark-sql:2.4.5`\n",
    "\n",
    "\n",
    "import org.apache.spark.ml.linalg.{Matrix, Vectors}\n",
    "import org.apache.spark.ml.stat.Correlation\n",
    "import org.apache.spark.ml.feature.VectorAssembler\n",
    "import org.apache.spark.ml.linalg.Vectors\n",
    "import org.apache.spark.sql.Row\n",
    "import org.apache.spark.sql.types._\n",
    "import scala.collection.mutable.ListBuffer\n",
    "\n",
    "import org.apache.log4j.{Level, Logger}\n",
    "Logger.getLogger(\"org\").setLevel(Level.OFF)\n",
    "\n",
    "import org.apache.spark.sql._\n",
    "\n",
    "val spark = NotebookSparkSession\n",
    "    .builder()\n",
    "    .master(\"local[*]\")\n",
    "    .getOrCreate()\n"
   ]
  },
  {
   "cell_type": "code",
   "execution_count": 3,
   "metadata": {},
   "outputs": [],
   "source": [
    "// Рисование\n",
    "import $ivy.`org.plotly-scala::plotly-almond:0.7.2`\n",
    "\n",
    "import plotly._\n",
    "import plotly.element._\n",
    "import plotly.layout._\n",
    "import plotly.Almond._\n",
    "import $ivy.`org.scalanlp::breeze:0.13.2`\n",
    "import $ivy.`org.scalanlp::breeze-natives:0.13.2`\n",
    "import $ivy.`org.scalanlp::breeze-viz:0.13.2`\n",
    "\n",
    "import breeze.linalg.DenseVector\n",
    "import breeze.linalg.DenseMatrix\n",
    "implicit def fromDenseVectorDouble(v: DenseVector[Double]): Sequence = v.toArray.toVector"
   ]
  },
  {
   "cell_type": "code",
   "execution_count": 4,
   "metadata": {},
   "outputs": [],
   "source": [
    "import spark.implicits._"
   ]
  },
  {
   "cell_type": "code",
   "execution_count": 5,
   "metadata": {},
   "outputs": [],
   "source": [
    "def getCorrDataFrame(df: DataFrame, replace_val: Double = 0.0, mode: String = \"pearson\"):DataFrame={\n",
    "    // Получим имена колонок и типы для фильтрации\n",
    "    var types = df.schema.fields.map(f=>f.dataType).toSeq.map(_.toString).to[ListBuffer]\n",
    "    var names = df.schema.fields.map(f=>f.name).toSeq.map(_.toString).to[ListBuffer]\n",
    "    var removeList:ListBuffer[String] = ListBuffer()\n",
    "    // Пометим нечисловые и Id \n",
    "    for (i <-0 to types.size-1){\n",
    "    if (((types(i)!= \"IntegerType\") & (types(i)!= \"DoubleType\"))|names(i).contains(\"Id\")){\n",
    "        removeList+=names(i)\n",
    "        }\n",
    "    \n",
    "    }\n",
    "    names--=removeList\n",
    "    // Получим эффективно матрицу корреляции\n",
    "    val assembler = new VectorAssembler()\n",
    "      .setInputCols(names.toArray)\n",
    "      .setOutputCol(\"features\")\n",
    "    var df_filled = df.na.fill(replace_val)\n",
    "    val output = assembler.setHandleInvalid(\"skip\").transform(df_filled).select(\"features\")\n",
    "    val matrix = Correlation.corr(output, \"features\", mode)\n",
    "    var lm = matrix.head().getAs[Matrix](0)\n",
    "    // конвертим в датафрейм массивов\n",
    "    val cols = (0 until lm.numCols).toSeq\n",
    "\n",
    "    val matrixRows = lm.rowIter.toSeq.map(_.toArray)\n",
    "    val df_corr = spark.sparkContext.parallelize(matrixRows).toDF(\"Row\")\n",
    "    var df_corr_cols = cols.foldLeft(df_corr)(\n",
    "            (df_corr, i) => df_corr.withColumn(names(i), $\"Row\".getItem(i))\n",
    "            ).drop(\"arr\")\n",
    "    // Добавляем колонку\n",
    "    val rdd_names = spark.sparkContext.parallelize(names)\n",
    "    val rdd_new = df_corr_cols.rdd.zip(rdd_names).map(r => Row.fromSeq(r._1.toSeq ++ Seq(r._2)))\n",
    "\n",
    "    spark.createDataFrame(rdd_new,  df_corr_cols.schema.add(\"ids\", StringType))\n",
    "    \n",
    "}"
   ]
  },
  {
   "cell_type": "code",
   "execution_count": 6,
   "metadata": {},
   "outputs": [
    {
     "data": {
      "text/html": [
       "<script>\n",
       "var comm = Jupyter.notebook.kernel.comm_manager.new_comm('cancel-stage-e8b2b0df-07e3-45d3-9e75-fcf0003bb669', {});\n",
       "\n",
       "function cancelStage(stageId) {\n",
       "  console.log('Cancelling stage ' + stageId);\n",
       "  comm.send({ 'stageId': stageId });\n",
       "}\n",
       "</script>\n",
       "          "
      ]
     },
     "metadata": {},
     "output_type": "display_data"
    },
    {
     "data": {
      "text/html": [
       "<div>\n",
       "  <span style=\"float: left;\">parquet at cmd5.sc:1</span>\n",
       "</div>\n"
      ]
     },
     "metadata": {},
     "output_type": "display_data"
    },
    {
     "data": {
      "text/html": [
       "<div class=\"progress\">\n",
       "  <div class=\"progress-bar\" role=\"progressbar\" style=\"background-color: blue; width: 100%; word-wrap: normal; white-space: nowrap; text-align: center; color: white\" aria-valuenow=\"100\" aria-valuemin=\"0\" aria-valuemax=\"100\">\n",
       "    48 / 48\n",
       "  </div>\n",
       "  <div class=\"progress-bar\" role=\"progressbar\" style=\"background-color: red; width: 0%\" aria-valuenow=\"0\" aria-valuemin=\"0\" aria-valuemax=\"100\"></div>\n",
       "</div>\n"
      ]
     },
     "metadata": {},
     "output_type": "display_data"
    },
    {
     "data": {
      "text/html": [
       "<div>\n",
       "  <span style=\"float: left;\">parquet at cmd5.sc:1</span>\n",
       "</div>\n"
      ]
     },
     "metadata": {},
     "output_type": "display_data"
    },
    {
     "data": {
      "text/html": [
       "<div class=\"progress\">\n",
       "  <div class=\"progress-bar\" role=\"progressbar\" style=\"background-color: blue; width: 100%; word-wrap: normal; white-space: nowrap; text-align: center; color: white\" aria-valuenow=\"100\" aria-valuemin=\"0\" aria-valuemax=\"100\">\n",
       "    1 / 1\n",
       "  </div>\n",
       "  <div class=\"progress-bar\" role=\"progressbar\" style=\"background-color: red; width: 0%\" aria-valuenow=\"0\" aria-valuemin=\"0\" aria-valuemax=\"100\"></div>\n",
       "</div>\n"
      ]
     },
     "metadata": {},
     "output_type": "display_data"
    },
    {
     "data": {
      "text/html": [
       "<div class=\"jp-RenderedText\">\n",
       "<pre><code></code></pre>\n",
       "</div>"
      ],
      "text/plain": []
     },
     "metadata": {},
     "output_type": "display_data"
    }
   ],
   "source": [
    "var df = spark.read.parquet(\"../data/main_dataset/collabTrain\")"
   ]
  },
  {
   "cell_type": "code",
   "execution_count": 7,
   "metadata": {
    "scrolled": false
   },
   "outputs": [
    {
     "name": "stdout",
     "output_type": "stream",
     "text": [
      "root\n",
      " |-- instanceId_userId: integer (nullable = true)\n",
      " |-- instanceId_objectType: string (nullable = true)\n",
      " |-- instanceId_objectId: integer (nullable = true)\n",
      " |-- audit_pos: long (nullable = true)\n",
      " |-- audit_clientType: string (nullable = true)\n",
      " |-- audit_timestamp: long (nullable = true)\n",
      " |-- audit_timePassed: long (nullable = true)\n",
      " |-- audit_experiment: string (nullable = true)\n",
      " |-- audit_resourceType: long (nullable = true)\n",
      " |-- metadata_ownerId: integer (nullable = true)\n",
      " |-- metadata_ownerType: string (nullable = true)\n",
      " |-- metadata_createdAt: long (nullable = true)\n",
      " |-- metadata_authorId: integer (nullable = true)\n",
      " |-- metadata_applicationId: long (nullable = true)\n",
      " |-- metadata_numCompanions: integer (nullable = true)\n",
      " |-- metadata_numPhotos: integer (nullable = true)\n",
      " |-- metadata_numPolls: integer (nullable = true)\n",
      " |-- metadata_numSymbols: integer (nullable = true)\n",
      " |-- metadata_numTokens: integer (nullable = true)\n",
      " |-- metadata_numVideos: integer (nullable = true)\n",
      " |-- metadata_platform: string (nullable = true)\n",
      " |-- metadata_totalVideoLength: integer (nullable = true)\n",
      " |-- metadata_options: array (nullable = true)\n",
      " |    |-- element: string (containsNull = true)\n",
      " |-- relationsMask: long (nullable = true)\n",
      " |-- userOwnerCounters_USER_FEED_REMOVE: double (nullable = true)\n",
      " |-- userOwnerCounters_USER_PROFILE_VIEW: double (nullable = true)\n",
      " |-- userOwnerCounters_VOTE_POLL: double (nullable = true)\n",
      " |-- userOwnerCounters_USER_SEND_MESSAGE: double (nullable = true)\n",
      " |-- userOwnerCounters_USER_DELETE_MESSAGE: double (nullable = true)\n",
      " |-- userOwnerCounters_USER_INTERNAL_LIKE: double (nullable = true)\n",
      " |-- userOwnerCounters_USER_INTERNAL_UNLIKE: double (nullable = true)\n",
      " |-- userOwnerCounters_USER_STATUS_COMMENT_CREATE: double (nullable = true)\n",
      " |-- userOwnerCounters_PHOTO_COMMENT_CREATE: double (nullable = true)\n",
      " |-- userOwnerCounters_MOVIE_COMMENT_CREATE: double (nullable = true)\n",
      " |-- userOwnerCounters_USER_PHOTO_ALBUM_COMMENT_CREATE: double (nullable = true)\n",
      " |-- userOwnerCounters_COMMENT_INTERNAL_LIKE: double (nullable = true)\n",
      " |-- userOwnerCounters_USER_FORUM_MESSAGE_CREATE: double (nullable = true)\n",
      " |-- userOwnerCounters_PHOTO_MARK_CREATE: double (nullable = true)\n",
      " |-- userOwnerCounters_PHOTO_VIEW: double (nullable = true)\n",
      " |-- userOwnerCounters_PHOTO_PIN_BATCH_CREATE: double (nullable = true)\n",
      " |-- userOwnerCounters_PHOTO_PIN_UPDATE: double (nullable = true)\n",
      " |-- userOwnerCounters_USER_PRESENT_SEND: double (nullable = true)\n",
      " |-- userOwnerCounters_UNKNOWN: double (nullable = true)\n",
      " |-- userOwnerCounters_CREATE_TOPIC: double (nullable = true)\n",
      " |-- userOwnerCounters_CREATE_IMAGE: double (nullable = true)\n",
      " |-- userOwnerCounters_CREATE_MOVIE: double (nullable = true)\n",
      " |-- userOwnerCounters_CREATE_COMMENT: double (nullable = true)\n",
      " |-- userOwnerCounters_CREATE_LIKE: double (nullable = true)\n",
      " |-- userOwnerCounters_TEXT: double (nullable = true)\n",
      " |-- userOwnerCounters_IMAGE: double (nullable = true)\n",
      " |-- userOwnerCounters_VIDEO: double (nullable = true)\n",
      " |-- ownerUserCounters_USER_FEED_REMOVE: double (nullable = true)\n",
      " |-- ownerUserCounters_USER_PROFILE_VIEW: double (nullable = true)\n",
      " |-- ownerUserCounters_VOTE_POLL: double (nullable = true)\n",
      " |-- ownerUserCounters_USER_SEND_MESSAGE: double (nullable = true)\n",
      " |-- ownerUserCounters_USER_DELETE_MESSAGE: double (nullable = true)\n",
      " |-- ownerUserCounters_USER_INTERNAL_LIKE: double (nullable = true)\n",
      " |-- ownerUserCounters_USER_INTERNAL_UNLIKE: double (nullable = true)\n",
      " |-- ownerUserCounters_USER_STATUS_COMMENT_CREATE: double (nullable = true)\n",
      " |-- ownerUserCounters_PHOTO_COMMENT_CREATE: double (nullable = true)\n",
      " |-- ownerUserCounters_MOVIE_COMMENT_CREATE: double (nullable = true)\n",
      " |-- ownerUserCounters_USER_PHOTO_ALBUM_COMMENT_CREATE: double (nullable = true)\n",
      " |-- ownerUserCounters_COMMENT_INTERNAL_LIKE: double (nullable = true)\n",
      " |-- ownerUserCounters_USER_FORUM_MESSAGE_CREATE: double (nullable = true)\n",
      " |-- ownerUserCounters_PHOTO_MARK_CREATE: double (nullable = true)\n",
      " |-- ownerUserCounters_PHOTO_VIEW: double (nullable = true)\n",
      " |-- ownerUserCounters_PHOTO_PIN_BATCH_CREATE: double (nullable = true)\n",
      " |-- ownerUserCounters_PHOTO_PIN_UPDATE: double (nullable = true)\n",
      " |-- ownerUserCounters_USER_PRESENT_SEND: double (nullable = true)\n",
      " |-- ownerUserCounters_UNKNOWN: double (nullable = true)\n",
      " |-- ownerUserCounters_CREATE_TOPIC: double (nullable = true)\n",
      " |-- ownerUserCounters_CREATE_IMAGE: double (nullable = true)\n",
      " |-- ownerUserCounters_CREATE_MOVIE: double (nullable = true)\n",
      " |-- ownerUserCounters_CREATE_COMMENT: double (nullable = true)\n",
      " |-- ownerUserCounters_CREATE_LIKE: double (nullable = true)\n",
      " |-- ownerUserCounters_TEXT: double (nullable = true)\n",
      " |-- ownerUserCounters_IMAGE: double (nullable = true)\n",
      " |-- ownerUserCounters_VIDEO: double (nullable = true)\n",
      " |-- membership_status: string (nullable = true)\n",
      " |-- membership_statusUpdateDate: long (nullable = true)\n",
      " |-- membership_joinDate: long (nullable = true)\n",
      " |-- membership_joinRequestDate: long (nullable = true)\n",
      " |-- owner_create_date: long (nullable = true)\n",
      " |-- owner_birth_date: integer (nullable = true)\n",
      " |-- owner_gender: integer (nullable = true)\n",
      " |-- owner_status: integer (nullable = true)\n",
      " |-- owner_ID_country: long (nullable = true)\n",
      " |-- owner_ID_Location: integer (nullable = true)\n",
      " |-- owner_is_active: integer (nullable = true)\n",
      " |-- owner_is_deleted: integer (nullable = true)\n",
      " |-- owner_is_abused: integer (nullable = true)\n",
      " |-- owner_is_activated: integer (nullable = true)\n",
      " |-- owner_change_datime: long (nullable = true)\n",
      " |-- owner_is_semiactivated: integer (nullable = true)\n",
      " |-- owner_region: integer (nullable = true)\n",
      " |-- user_create_date: long (nullable = true)\n",
      " |-- user_birth_date: integer (nullable = true)\n",
      " |-- user_gender: integer (nullable = true)\n",
      " |-- user_status: integer (nullable = true)\n",
      " |-- user_ID_country: long (nullable = true)\n",
      " |-- user_ID_Location: integer (nullable = true)\n",
      " |-- user_is_active: integer (nullable = true)\n",
      " |-- user_is_deleted: integer (nullable = true)\n",
      " |-- user_is_abused: integer (nullable = true)\n",
      " |-- user_is_activated: integer (nullable = true)\n",
      " |-- user_change_datime: long (nullable = true)\n",
      " |-- user_is_semiactivated: integer (nullable = true)\n",
      " |-- user_region: integer (nullable = true)\n",
      " |-- feedback: array (nullable = true)\n",
      " |    |-- element: string (containsNull = true)\n",
      " |-- objectId: integer (nullable = true)\n",
      " |-- auditweights_ageMs: double (nullable = true)\n",
      " |-- auditweights_closed: double (nullable = true)\n",
      " |-- auditweights_ctr_gender: double (nullable = true)\n",
      " |-- auditweights_ctr_high: double (nullable = true)\n",
      " |-- auditweights_ctr_negative: double (nullable = true)\n",
      " |-- auditweights_dailyRecency: double (nullable = true)\n",
      " |-- auditweights_feedOwner_RECOMMENDED_GROUP: double (nullable = true)\n",
      " |-- auditweights_feedStats: double (nullable = true)\n",
      " |-- auditweights_friendCommentFeeds: double (nullable = true)\n",
      " |-- auditweights_friendCommenters: double (nullable = true)\n",
      " |-- auditweights_friendLikes: double (nullable = true)\n",
      " |-- auditweights_friendLikes_actors: double (nullable = true)\n",
      " |-- auditweights_hasDetectedText: double (nullable = true)\n",
      " |-- auditweights_hasText: double (nullable = true)\n",
      " |-- auditweights_isPymk: double (nullable = true)\n",
      " |-- auditweights_isRandom: double (nullable = true)\n",
      " |-- auditweights_likersFeedStats_hyper: double (nullable = true)\n",
      " |-- auditweights_likersSvd_prelaunch_hyper: double (nullable = true)\n",
      " |-- auditweights_matrix: double (nullable = true)\n",
      " |-- auditweights_notOriginalPhoto: double (nullable = true)\n",
      " |-- auditweights_numDislikes: double (nullable = true)\n",
      " |-- auditweights_numLikes: double (nullable = true)\n",
      " |-- auditweights_numShows: double (nullable = true)\n",
      " |-- auditweights_onlineVideo: double (nullable = true)\n",
      " |-- auditweights_partAge: double (nullable = true)\n",
      " |-- auditweights_partCtr: double (nullable = true)\n",
      " |-- auditweights_partSvd: double (nullable = true)\n",
      " |-- auditweights_processedVideo: double (nullable = true)\n",
      " |-- auditweights_relationMasks: double (nullable = true)\n",
      " |-- auditweights_source_LIVE_TOP: double (nullable = true)\n",
      " |-- auditweights_source_MOVIE_TOP: double (nullable = true)\n",
      " |-- auditweights_svd_prelaunch: double (nullable = true)\n",
      " |-- auditweights_svd_spark: double (nullable = true)\n",
      " |-- auditweights_userAge: double (nullable = true)\n",
      " |-- auditweights_userOwner_CREATE_COMMENT: double (nullable = true)\n",
      " |-- auditweights_userOwner_CREATE_IMAGE: double (nullable = true)\n",
      " |-- auditweights_userOwner_CREATE_LIKE: double (nullable = true)\n",
      " |-- auditweights_userOwner_IMAGE: double (nullable = true)\n",
      " |-- auditweights_userOwner_MOVIE_COMMENT_CREATE: double (nullable = true)\n",
      " |-- auditweights_userOwner_PHOTO_COMMENT_CREATE: double (nullable = true)\n",
      " |-- auditweights_userOwner_PHOTO_MARK_CREATE: double (nullable = true)\n",
      " |-- auditweights_userOwner_PHOTO_VIEW: double (nullable = true)\n",
      " |-- auditweights_userOwner_TEXT: double (nullable = true)\n",
      " |-- auditweights_userOwner_UNKNOWN: double (nullable = true)\n",
      " |-- auditweights_userOwner_USER_DELETE_MESSAGE: double (nullable = true)\n",
      " |-- auditweights_userOwner_USER_FEED_REMOVE: double (nullable = true)\n",
      " |-- auditweights_userOwner_USER_FORUM_MESSAGE_CREATE: double (nullable = true)\n"
     ]
    },
    {
     "name": "stdout",
     "output_type": "stream",
     "text": [
      " |-- auditweights_userOwner_USER_INTERNAL_LIKE: double (nullable = true)\n",
      " |-- auditweights_userOwner_USER_INTERNAL_UNLIKE: double (nullable = true)\n",
      " |-- auditweights_userOwner_USER_PRESENT_SEND: double (nullable = true)\n",
      " |-- auditweights_userOwner_USER_PROFILE_VIEW: double (nullable = true)\n",
      " |-- auditweights_userOwner_USER_SEND_MESSAGE: double (nullable = true)\n",
      " |-- auditweights_userOwner_USER_STATUS_COMMENT_CREATE: double (nullable = true)\n",
      " |-- auditweights_userOwner_VIDEO: double (nullable = true)\n",
      " |-- auditweights_userOwner_VOTE_POLL: double (nullable = true)\n",
      " |-- auditweights_x_ActorsRelations: long (nullable = true)\n",
      " |-- auditweights_likersSvd_spark_hyper: double (nullable = true)\n",
      " |-- auditweights_source_PROMO: double (nullable = true)\n",
      " |-- date: date (nullable = true)\n",
      "\n"
     ]
    }
   ],
   "source": [
    "df.printSchema"
   ]
  },
  {
   "cell_type": "code",
   "execution_count": 8,
   "metadata": {
    "scrolled": false
   },
   "outputs": [
    {
     "name": "stdout",
     "output_type": "stream",
     "text": [
      "owner types: \n"
     ]
    },
    {
     "data": {
      "text/html": [
       "<div>\n",
       "  <span style=\"float: left;\">show at cmd7.sc:2</span>\n",
       "</div>\n"
      ]
     },
     "metadata": {},
     "output_type": "display_data"
    },
    {
     "data": {
      "text/html": [
       "<div class=\"progress\">\n",
       "  <div class=\"progress-bar\" role=\"progressbar\" style=\"background-color: blue; width: 100%; word-wrap: normal; white-space: nowrap; text-align: center; color: white\" aria-valuenow=\"100\" aria-valuemin=\"0\" aria-valuemax=\"100\">\n",
       "    28 / 28\n",
       "  </div>\n",
       "  <div class=\"progress-bar\" role=\"progressbar\" style=\"background-color: red; width: 0%\" aria-valuenow=\"0\" aria-valuemin=\"0\" aria-valuemax=\"100\"></div>\n",
       "</div>\n"
      ]
     },
     "metadata": {},
     "output_type": "display_data"
    },
    {
     "data": {
      "text/html": [
       "<div>\n",
       "  <span style=\"float: left;\">show at cmd7.sc:2</span>\n",
       "</div>\n"
      ]
     },
     "metadata": {},
     "output_type": "display_data"
    },
    {
     "data": {
      "text/html": [
       "<div class=\"progress\">\n",
       "  <div class=\"progress-bar\" role=\"progressbar\" style=\"background-color: blue; width: 100%; word-wrap: normal; white-space: nowrap; text-align: center; color: white\" aria-valuenow=\"100\" aria-valuemin=\"0\" aria-valuemax=\"100\">\n",
       "    1 / 1\n",
       "  </div>\n",
       "  <div class=\"progress-bar\" role=\"progressbar\" style=\"background-color: red; width: 0%\" aria-valuenow=\"0\" aria-valuemin=\"0\" aria-valuemax=\"100\"></div>\n",
       "</div>\n"
      ]
     },
     "metadata": {},
     "output_type": "display_data"
    },
    {
     "data": {
      "text/html": [
       "<div>\n",
       "  <span style=\"float: left;\">show at cmd7.sc:2</span>\n",
       "</div>\n"
      ]
     },
     "metadata": {},
     "output_type": "display_data"
    },
    {
     "data": {
      "text/html": [
       "<div class=\"progress\">\n",
       "  <div class=\"progress-bar\" role=\"progressbar\" style=\"background-color: blue; width: 100%; word-wrap: normal; white-space: nowrap; text-align: center; color: white\" aria-valuenow=\"100\" aria-valuemin=\"0\" aria-valuemax=\"100\">\n",
       "    4 / 4\n",
       "  </div>\n",
       "  <div class=\"progress-bar\" role=\"progressbar\" style=\"background-color: red; width: 0%\" aria-valuenow=\"0\" aria-valuemin=\"0\" aria-valuemax=\"100\"></div>\n",
       "</div>\n"
      ]
     },
     "metadata": {},
     "output_type": "display_data"
    },
    {
     "data": {
      "text/html": [
       "<div>\n",
       "  <span style=\"float: left;\">show at cmd7.sc:2</span>\n",
       "</div>\n"
      ]
     },
     "metadata": {},
     "output_type": "display_data"
    },
    {
     "data": {
      "text/html": [
       "<div class=\"progress\">\n",
       "  <div class=\"progress-bar\" role=\"progressbar\" style=\"background-color: blue; width: 100%; word-wrap: normal; white-space: nowrap; text-align: center; color: white\" aria-valuenow=\"100\" aria-valuemin=\"0\" aria-valuemax=\"100\">\n",
       "    20 / 20\n",
       "  </div>\n",
       "  <div class=\"progress-bar\" role=\"progressbar\" style=\"background-color: red; width: 0%\" aria-valuenow=\"0\" aria-valuemin=\"0\" aria-valuemax=\"100\"></div>\n",
       "</div>\n"
      ]
     },
     "metadata": {},
     "output_type": "display_data"
    },
    {
     "data": {
      "text/html": [
       "<div>\n",
       "  <span style=\"float: left;\">show at cmd7.sc:2</span>\n",
       "</div>\n"
      ]
     },
     "metadata": {},
     "output_type": "display_data"
    },
    {
     "data": {
      "text/html": [
       "<div class=\"progress\">\n",
       "  <div class=\"progress-bar\" role=\"progressbar\" style=\"background-color: blue; width: 100%; word-wrap: normal; white-space: nowrap; text-align: center; color: white\" aria-valuenow=\"100\" aria-valuemin=\"0\" aria-valuemax=\"100\">\n",
       "    100 / 100\n",
       "  </div>\n",
       "  <div class=\"progress-bar\" role=\"progressbar\" style=\"background-color: red; width: 0%\" aria-valuenow=\"0\" aria-valuemin=\"0\" aria-valuemax=\"100\"></div>\n",
       "</div>\n"
      ]
     },
     "metadata": {},
     "output_type": "display_data"
    },
    {
     "data": {
      "text/html": [
       "<div>\n",
       "  <span style=\"float: left;\">show at cmd7.sc:2</span>\n",
       "</div>\n"
      ]
     },
     "metadata": {},
     "output_type": "display_data"
    },
    {
     "data": {
      "text/html": [
       "<div class=\"progress\">\n",
       "  <div class=\"progress-bar\" role=\"progressbar\" style=\"background-color: blue; width: 100%; word-wrap: normal; white-space: nowrap; text-align: center; color: white\" aria-valuenow=\"100\" aria-valuemin=\"0\" aria-valuemax=\"100\">\n",
       "    75 / 75\n",
       "  </div>\n",
       "  <div class=\"progress-bar\" role=\"progressbar\" style=\"background-color: red; width: 0%\" aria-valuenow=\"0\" aria-valuemin=\"0\" aria-valuemax=\"100\"></div>\n",
       "</div>\n"
      ]
     },
     "metadata": {},
     "output_type": "display_data"
    },
    {
     "name": "stdout",
     "output_type": "stream",
     "text": [
      "+-------------------+\n",
      "| metadata_ownerType|\n",
      "+-------------------+\n",
      "|GROUP_OPEN_OFFICIAL|\n",
      "|         GROUP_OPEN|\n",
      "+-------------------+\n",
      "\n"
     ]
    }
   ],
   "source": [
    "println(\"owner types: \")\n",
    "df.select(\"metadata_ownerType\").distinct().show()\n",
    "// нашли группы"
   ]
  },
  {
   "cell_type": "code",
   "execution_count": 9,
   "metadata": {},
   "outputs": [],
   "source": [
    "import org.apache.spark.sql.functions._\n"
   ]
  },
  {
   "cell_type": "code",
   "execution_count": 10,
   "metadata": {},
   "outputs": [
    {
     "data": {
      "text/html": [
       "<div>\n",
       "  <span style=\"float: left;\">show at cmd9.sc:1</span>\n",
       "</div>\n"
      ]
     },
     "metadata": {},
     "output_type": "display_data"
    },
    {
     "data": {
      "text/html": [
       "<div class=\"progress\">\n",
       "  <div class=\"progress-bar\" role=\"progressbar\" style=\"background-color: blue; width: 100%; word-wrap: normal; white-space: nowrap; text-align: center; color: white\" aria-valuenow=\"100\" aria-valuemin=\"0\" aria-valuemax=\"100\">\n",
       "    28 / 28\n",
       "  </div>\n",
       "  <div class=\"progress-bar\" role=\"progressbar\" style=\"background-color: red; width: 0%\" aria-valuenow=\"0\" aria-valuemin=\"0\" aria-valuemax=\"100\"></div>\n",
       "</div>\n"
      ]
     },
     "metadata": {},
     "output_type": "display_data"
    },
    {
     "data": {
      "text/html": [
       "<div>\n",
       "  <span style=\"float: left;\">show at cmd9.sc:1</span>\n",
       "</div>\n"
      ]
     },
     "metadata": {},
     "output_type": "display_data"
    },
    {
     "data": {
      "text/html": [
       "<div class=\"progress\">\n",
       "  <div class=\"progress-bar\" role=\"progressbar\" style=\"background-color: blue; width: 100%; word-wrap: normal; white-space: nowrap; text-align: center; color: white\" aria-valuenow=\"100\" aria-valuemin=\"0\" aria-valuemax=\"100\">\n",
       "    200 / 200\n",
       "  </div>\n",
       "  <div class=\"progress-bar\" role=\"progressbar\" style=\"background-color: red; width: 0%\" aria-valuenow=\"0\" aria-valuemin=\"0\" aria-valuemax=\"100\"></div>\n",
       "</div>\n"
      ]
     },
     "metadata": {},
     "output_type": "display_data"
    },
    {
     "data": {
      "text/html": [
       "<div>\n",
       "  <span style=\"float: left;\">show at cmd9.sc:1</span>\n",
       "</div>\n"
      ]
     },
     "metadata": {},
     "output_type": "display_data"
    },
    {
     "data": {
      "text/html": [
       "<div class=\"progress\">\n",
       "  <div class=\"progress-bar\" role=\"progressbar\" style=\"background-color: blue; width: 100%; word-wrap: normal; white-space: nowrap; text-align: center; color: white\" aria-valuenow=\"100\" aria-valuemin=\"0\" aria-valuemax=\"100\">\n",
       "    1 / 1\n",
       "  </div>\n",
       "  <div class=\"progress-bar\" role=\"progressbar\" style=\"background-color: red; width: 0%\" aria-valuenow=\"0\" aria-valuemin=\"0\" aria-valuemax=\"100\"></div>\n",
       "</div>\n"
      ]
     },
     "metadata": {},
     "output_type": "display_data"
    },
    {
     "data": {
      "text/html": [
       "<div>\n",
       "  <span style=\"float: left;\">show at cmd9.sc:1</span>\n",
       "</div>\n"
      ]
     },
     "metadata": {},
     "output_type": "display_data"
    },
    {
     "data": {
      "text/html": [
       "<div class=\"progress\">\n",
       "  <div class=\"progress-bar\" role=\"progressbar\" style=\"background-color: blue; width: 100%; word-wrap: normal; white-space: nowrap; text-align: center; color: white\" aria-valuenow=\"100\" aria-valuemin=\"0\" aria-valuemax=\"100\">\n",
       "    4 / 4\n",
       "  </div>\n",
       "  <div class=\"progress-bar\" role=\"progressbar\" style=\"background-color: red; width: 0%\" aria-valuenow=\"0\" aria-valuemin=\"0\" aria-valuemax=\"100\"></div>\n",
       "</div>\n"
      ]
     },
     "metadata": {},
     "output_type": "display_data"
    },
    {
     "data": {
      "text/html": [
       "<div>\n",
       "  <span style=\"float: left;\">show at cmd9.sc:1</span>\n",
       "</div>\n"
      ]
     },
     "metadata": {},
     "output_type": "display_data"
    },
    {
     "data": {
      "text/html": [
       "<div class=\"progress\">\n",
       "  <div class=\"progress-bar\" role=\"progressbar\" style=\"background-color: blue; width: 100%; word-wrap: normal; white-space: nowrap; text-align: center; color: white\" aria-valuenow=\"100\" aria-valuemin=\"0\" aria-valuemax=\"100\">\n",
       "    20 / 20\n",
       "  </div>\n",
       "  <div class=\"progress-bar\" role=\"progressbar\" style=\"background-color: red; width: 0%\" aria-valuenow=\"0\" aria-valuemin=\"0\" aria-valuemax=\"100\"></div>\n",
       "</div>\n"
      ]
     },
     "metadata": {},
     "output_type": "display_data"
    },
    {
     "data": {
      "text/html": [
       "<div>\n",
       "  <span style=\"float: left;\">show at cmd9.sc:1</span>\n",
       "</div>\n"
      ]
     },
     "metadata": {},
     "output_type": "display_data"
    },
    {
     "data": {
      "text/html": [
       "<div class=\"progress\">\n",
       "  <div class=\"progress-bar\" role=\"progressbar\" style=\"background-color: blue; width: 100%; word-wrap: normal; white-space: nowrap; text-align: center; color: white\" aria-valuenow=\"100\" aria-valuemin=\"0\" aria-valuemax=\"100\">\n",
       "    100 / 100\n",
       "  </div>\n",
       "  <div class=\"progress-bar\" role=\"progressbar\" style=\"background-color: red; width: 0%\" aria-valuenow=\"0\" aria-valuemin=\"0\" aria-valuemax=\"100\"></div>\n",
       "</div>\n"
      ]
     },
     "metadata": {},
     "output_type": "display_data"
    },
    {
     "data": {
      "text/html": [
       "<div>\n",
       "  <span style=\"float: left;\">show at cmd9.sc:1</span>\n",
       "</div>\n"
      ]
     },
     "metadata": {},
     "output_type": "display_data"
    },
    {
     "data": {
      "text/html": [
       "<div class=\"progress\">\n",
       "  <div class=\"progress-bar\" role=\"progressbar\" style=\"background-color: blue; width: 100%; word-wrap: normal; white-space: nowrap; text-align: center; color: white\" aria-valuenow=\"100\" aria-valuemin=\"0\" aria-valuemax=\"100\">\n",
       "    75 / 75\n",
       "  </div>\n",
       "  <div class=\"progress-bar\" role=\"progressbar\" style=\"background-color: red; width: 0%\" aria-valuenow=\"0\" aria-valuemin=\"0\" aria-valuemax=\"100\"></div>\n",
       "</div>\n"
      ]
     },
     "metadata": {},
     "output_type": "display_data"
    },
    {
     "name": "stdout",
     "output_type": "stream",
     "text": [
      "+-----------------+---------------------------------+\n",
      "|membership_status|count(DISTINCT instanceId_userId)|\n",
      "+-----------------+---------------------------------+\n",
      "|                !|                             1056|\n",
      "|             null|                          2516907|\n",
      "|                B|                              334|\n",
      "|                Y|                             3251|\n",
      "|                M|                             2418|\n",
      "|                A|                          2772341|\n",
      "|                R|                                3|\n",
      "|                I|                             5509|\n",
      "|                P|                            51214|\n",
      "+-----------------+---------------------------------+\n",
      "\n"
     ]
    }
   ],
   "source": [
    "df.groupBy(\"membership_status\").agg(countDistinct( $\"instanceId_userId\")).show()"
   ]
  },
  {
   "cell_type": "code",
   "execution_count": 10,
   "metadata": {},
   "outputs": [],
   "source": [
    "//Популярность групп - количество уникальных человек в группе - не подходит\n",
    "\n",
    "// Потому что нельзя проинтерпретировать членство"
   ]
  },
  {
   "cell_type": "code",
   "execution_count": 11,
   "metadata": {},
   "outputs": [
    {
     "data": {
      "text/html": [
       "<div>\n",
       "  <span style=\"float: left;\">show at cmd10.sc:1</span>\n",
       "</div>\n"
      ]
     },
     "metadata": {},
     "output_type": "display_data"
    },
    {
     "data": {
      "text/html": [
       "<div class=\"progress\">\n",
       "  <div class=\"progress-bar\" role=\"progressbar\" style=\"background-color: blue; width: 100%; word-wrap: normal; white-space: nowrap; text-align: center; color: white\" aria-valuenow=\"100\" aria-valuemin=\"0\" aria-valuemax=\"100\">\n",
       "    28 / 28\n",
       "  </div>\n",
       "  <div class=\"progress-bar\" role=\"progressbar\" style=\"background-color: red; width: 0%\" aria-valuenow=\"0\" aria-valuemin=\"0\" aria-valuemax=\"100\"></div>\n",
       "</div>\n"
      ]
     },
     "metadata": {},
     "output_type": "display_data"
    },
    {
     "data": {
      "text/html": [
       "<div>\n",
       "  <span style=\"float: left;\">show at cmd10.sc:1</span>\n",
       "</div>\n"
      ]
     },
     "metadata": {},
     "output_type": "display_data"
    },
    {
     "data": {
      "text/html": [
       "<div class=\"progress\">\n",
       "  <div class=\"progress-bar\" role=\"progressbar\" style=\"background-color: blue; width: 100%; word-wrap: normal; white-space: nowrap; text-align: center; color: white\" aria-valuenow=\"100\" aria-valuemin=\"0\" aria-valuemax=\"100\">\n",
       "    200 / 200\n",
       "  </div>\n",
       "  <div class=\"progress-bar\" role=\"progressbar\" style=\"background-color: red; width: 0%\" aria-valuenow=\"0\" aria-valuemin=\"0\" aria-valuemax=\"100\"></div>\n",
       "</div>\n"
      ]
     },
     "metadata": {},
     "output_type": "display_data"
    },
    {
     "name": "stdout",
     "output_type": "stream",
     "text": [
      "+--------------------+---------+\n",
      "|            feedback|countUser|\n",
      "+--------------------+---------+\n",
      "|           [Ignored]| 11633708|\n",
      "|             [Liked]|  2445356|\n",
      "|           [Clicked]|  1308199|\n",
      "|          [Disliked]|  1174102|\n",
      "| [Disliked, Ignored]|   408852|\n",
      "|    [Clicked, Liked]|   396484|\n",
      "|  [Clicked, Ignored]|   165655|\n",
      "|    [Liked, Ignored]|   120053|\n",
      "|[Clicked, ReShare...|    90873|\n",
      "|   [Clicked, Viewed]|    76645|\n",
      "| [Clicked, ReShared]|    70155|\n",
      "|            [Viewed]|    59587|\n",
      "|   [ReShared, Liked]|    52471|\n",
      "|          [ReShared]|    48160|\n",
      "| [Disliked, Clicked]|    30917|\n",
      "|[Clicked, Unliked...|    23978|\n",
      "|[Clicked, ReShare...|    19502|\n",
      "|   [Disliked, Liked]|    18621|\n",
      "|         [Commented]|    15488|\n",
      "| [ReShared, Ignored]|    13463|\n",
      "+--------------------+---------+\n",
      "only showing top 20 rows\n",
      "\n"
     ]
    }
   ],
   "source": [
    "// значит нужно упорядочить по числу залайканнх постов\n",
    "// Рассмотрим все возможные комбинации - их много\n",
    "df.groupBy($\"feedback\").agg(count( $\"instanceId_userId\").alias(\"countUser\")).orderBy(desc(\"countUser\")).show()"
   ]
  },
  {
   "cell_type": "code",
   "execution_count": 12,
   "metadata": {},
   "outputs": [],
   "source": [
    "// Поймем сколько уникальных состояний контента мб и сделаем pivot\n",
    "val distinct_df = df.withColumn(\"feedback_explodes\", explode($\"feedback\")).\n",
    "                     agg(collect_set(\"feedback_explodes\").alias(\"distinct_feat\"))"
   ]
  },
  {
   "cell_type": "code",
   "execution_count": 13,
   "metadata": {},
   "outputs": [
    {
     "data": {
      "text/html": [
       "<div>\n",
       "  <span style=\"float: left;\">show at cmd12.sc:2</span>\n",
       "</div>\n"
      ]
     },
     "metadata": {},
     "output_type": "display_data"
    },
    {
     "data": {
      "text/html": [
       "<div class=\"progress\">\n",
       "  <div class=\"progress-bar\" role=\"progressbar\" style=\"background-color: blue; width: 100%; word-wrap: normal; white-space: nowrap; text-align: center; color: white\" aria-valuenow=\"100\" aria-valuemin=\"0\" aria-valuemax=\"100\">\n",
       "    28 / 28\n",
       "  </div>\n",
       "  <div class=\"progress-bar\" role=\"progressbar\" style=\"background-color: red; width: 0%\" aria-valuenow=\"0\" aria-valuemin=\"0\" aria-valuemax=\"100\"></div>\n",
       "</div>\n"
      ]
     },
     "metadata": {},
     "output_type": "display_data"
    },
    {
     "data": {
      "text/html": [
       "<div>\n",
       "  <span style=\"float: left;\">show at cmd12.sc:2</span>\n",
       "</div>\n"
      ]
     },
     "metadata": {},
     "output_type": "display_data"
    },
    {
     "data": {
      "text/html": [
       "<div class=\"progress\">\n",
       "  <div class=\"progress-bar\" role=\"progressbar\" style=\"background-color: blue; width: 100%; word-wrap: normal; white-space: nowrap; text-align: center; color: white\" aria-valuenow=\"100\" aria-valuemin=\"0\" aria-valuemax=\"100\">\n",
       "    1 / 1\n",
       "  </div>\n",
       "  <div class=\"progress-bar\" role=\"progressbar\" style=\"background-color: red; width: 0%\" aria-valuenow=\"0\" aria-valuemin=\"0\" aria-valuemax=\"100\"></div>\n",
       "</div>\n"
      ]
     },
     "metadata": {},
     "output_type": "display_data"
    },
    {
     "name": "stdout",
     "output_type": "stream",
     "text": [
      "+------------------------------------------------------------------------------------+\n",
      "|distinct_feat                                                                       |\n",
      "+------------------------------------------------------------------------------------+\n",
      "|[Liked, Ignored, ReShared, Viewed, Complaint, Unliked, Commented, Clicked, Disliked]|\n",
      "+------------------------------------------------------------------------------------+\n",
      "\n"
     ]
    }
   ],
   "source": [
    "val u_name = distinct_df.select(\"distinct_feat\").rdd//.map(_.toSeq).flatten\n",
    "distinct_df.select(\"distinct_feat\").show(false)"
   ]
  },
  {
   "cell_type": "code",
   "execution_count": 14,
   "metadata": {},
   "outputs": [],
   "source": [
    "val new_list = List(\"Liked\", \"Ignored\", \"ReShared\", \"Viewed\", \"Complaint\", \"Unliked\", \"Commented\", \"Clicked\", \"Disliked\")"
   ]
  },
  {
   "cell_type": "code",
   "execution_count": 15,
   "metadata": {},
   "outputs": [],
   "source": [
    "// Добавим  1 и 0 для каждой реакции\n",
    "for (i <- new_list){\n",
    "    df = df.withColumn(i, when(array_contains($\"feedback\", i ), 1.0).otherwise(0.0))\n",
    "}"
   ]
  },
  {
   "cell_type": "code",
   "execution_count": 16,
   "metadata": {},
   "outputs": [
    {
     "data": {
      "text/html": [
       "<div>\n",
       "  <span style=\"float: left;\">show at cmd15.sc:1</span>\n",
       "</div>\n"
      ]
     },
     "metadata": {},
     "output_type": "display_data"
    },
    {
     "data": {
      "text/html": [
       "<div class=\"progress\">\n",
       "  <div class=\"progress-bar\" role=\"progressbar\" style=\"background-color: blue; width: 100%; word-wrap: normal; white-space: nowrap; text-align: center; color: white\" aria-valuenow=\"100\" aria-valuemin=\"0\" aria-valuemax=\"100\">\n",
       "    28 / 28\n",
       "  </div>\n",
       "  <div class=\"progress-bar\" role=\"progressbar\" style=\"background-color: red; width: 0%\" aria-valuenow=\"0\" aria-valuemin=\"0\" aria-valuemax=\"100\"></div>\n",
       "</div>\n"
      ]
     },
     "metadata": {},
     "output_type": "display_data"
    },
    {
     "data": {
      "text/html": [
       "<div>\n",
       "  <span style=\"float: left;\">show at cmd15.sc:1</span>\n",
       "</div>\n"
      ]
     },
     "metadata": {},
     "output_type": "display_data"
    },
    {
     "data": {
      "text/html": [
       "<div class=\"progress\">\n",
       "  <div class=\"progress-bar\" role=\"progressbar\" style=\"background-color: blue; width: 100%; word-wrap: normal; white-space: nowrap; text-align: center; color: white\" aria-valuenow=\"100\" aria-valuemin=\"0\" aria-valuemax=\"100\">\n",
       "    1 / 1\n",
       "  </div>\n",
       "  <div class=\"progress-bar\" role=\"progressbar\" style=\"background-color: red; width: 0%\" aria-valuenow=\"0\" aria-valuemin=\"0\" aria-valuemax=\"100\"></div>\n",
       "</div>\n"
      ]
     },
     "metadata": {},
     "output_type": "display_data"
    },
    {
     "name": "stdout",
     "output_type": "stream",
     "text": [
      "+----------+\n",
      "|sum(Liked)|\n",
      "+----------+\n",
      "| 3220429.0|\n",
      "+----------+\n",
      "\n"
     ]
    }
   ],
   "source": [
    "// Сколько лайков поставили всего\n",
    "df.select(\"Liked\").agg(sum($\"Liked\")).show()"
   ]
  },
  {
   "cell_type": "code",
   "execution_count": 17,
   "metadata": {},
   "outputs": [
    {
     "data": {
      "text/html": [
       "<div>\n",
       "  <span style=\"float: left;\">show at cmd16.sc:1</span>\n",
       "</div>\n"
      ]
     },
     "metadata": {},
     "output_type": "display_data"
    },
    {
     "data": {
      "text/html": [
       "<div class=\"progress\">\n",
       "  <div class=\"progress-bar\" role=\"progressbar\" style=\"background-color: blue; width: 100%; word-wrap: normal; white-space: nowrap; text-align: center; color: white\" aria-valuenow=\"100\" aria-valuemin=\"0\" aria-valuemax=\"100\">\n",
       "    28 / 28\n",
       "  </div>\n",
       "  <div class=\"progress-bar\" role=\"progressbar\" style=\"background-color: red; width: 0%\" aria-valuenow=\"0\" aria-valuemin=\"0\" aria-valuemax=\"100\"></div>\n",
       "</div>\n"
      ]
     },
     "metadata": {},
     "output_type": "display_data"
    },
    {
     "data": {
      "text/html": [
       "<div>\n",
       "  <span style=\"float: left;\">show at cmd16.sc:1</span>\n",
       "</div>\n"
      ]
     },
     "metadata": {},
     "output_type": "display_data"
    },
    {
     "data": {
      "text/html": [
       "<div class=\"progress\">\n",
       "  <div class=\"progress-bar\" role=\"progressbar\" style=\"background-color: blue; width: 100%; word-wrap: normal; white-space: nowrap; text-align: center; color: white\" aria-valuenow=\"100\" aria-valuemin=\"0\" aria-valuemax=\"100\">\n",
       "    200 / 200\n",
       "  </div>\n",
       "  <div class=\"progress-bar\" role=\"progressbar\" style=\"background-color: red; width: 0%\" aria-valuenow=\"0\" aria-valuemin=\"0\" aria-valuemax=\"100\"></div>\n",
       "</div>\n"
      ]
     },
     "metadata": {},
     "output_type": "display_data"
    },
    {
     "name": "stdout",
     "output_type": "stream",
     "text": [
      "+----------------+----------+\n",
      "|metadata_ownerId|popularity|\n",
      "+----------------+----------+\n",
      "|           37463|   16726.0|\n",
      "|           11222|   12301.0|\n",
      "|           18942|   10160.0|\n",
      "|           14285|   10024.0|\n",
      "|           62833|    9428.0|\n",
      "|           26843|    8779.0|\n",
      "|           19481|    8717.0|\n",
      "|           79619|    8519.0|\n",
      "|           11058|    8384.0|\n",
      "|           26735|    7770.0|\n",
      "|           77398|    7628.0|\n",
      "|           11163|    7495.0|\n",
      "|            9182|    7304.0|\n",
      "|           60195|    7270.0|\n",
      "|           64184|    7216.0|\n",
      "|           76851|    7153.0|\n",
      "|           14959|    7057.0|\n",
      "|           65305|    6953.0|\n",
      "|           38703|    6900.0|\n",
      "|           17215|    6663.0|\n",
      "+----------------+----------+\n",
      "only showing top 20 rows\n",
      "\n"
     ]
    }
   ],
   "source": [
    "//  Выведем топ 20 по популярности групп\n",
    "df.groupBy(\"metadata_ownerId\").agg(sum(\"Liked\").alias(\"popularity\")).orderBy(desc(\"popularity\")).show()"
   ]
  },
  {
   "cell_type": "code",
   "execution_count": 18,
   "metadata": {},
   "outputs": [],
   "source": [
    "val distinct_df = df.withColumn(\"meta_explodes\", explode($\"metadata_options\")).\n",
    "                     agg(collect_set(\"meta_explodes\").alias(\"distinct_meta\"))"
   ]
  },
  {
   "cell_type": "code",
   "execution_count": 19,
   "metadata": {},
   "outputs": [
    {
     "data": {
      "text/html": [
       "<div>\n",
       "  <span style=\"float: left;\">show at cmd18.sc:1</span>\n",
       "</div>\n"
      ]
     },
     "metadata": {},
     "output_type": "display_data"
    },
    {
     "data": {
      "text/html": [
       "<div class=\"progress\">\n",
       "  <div class=\"progress-bar\" role=\"progressbar\" style=\"background-color: blue; width: 100%; word-wrap: normal; white-space: nowrap; text-align: center; color: white\" aria-valuenow=\"100\" aria-valuemin=\"0\" aria-valuemax=\"100\">\n",
       "    28 / 28\n",
       "  </div>\n",
       "  <div class=\"progress-bar\" role=\"progressbar\" style=\"background-color: red; width: 0%\" aria-valuenow=\"0\" aria-valuemin=\"0\" aria-valuemax=\"100\"></div>\n",
       "</div>\n"
      ]
     },
     "metadata": {},
     "output_type": "display_data"
    },
    {
     "data": {
      "text/html": [
       "<div>\n",
       "  <span style=\"float: left;\">show at cmd18.sc:1</span>\n",
       "</div>\n"
      ]
     },
     "metadata": {},
     "output_type": "display_data"
    },
    {
     "data": {
      "text/html": [
       "<div class=\"progress\">\n",
       "  <div class=\"progress-bar\" role=\"progressbar\" style=\"background-color: blue; width: 100%; word-wrap: normal; white-space: nowrap; text-align: center; color: white\" aria-valuenow=\"100\" aria-valuemin=\"0\" aria-valuemax=\"100\">\n",
       "    1 / 1\n",
       "  </div>\n",
       "  <div class=\"progress-bar\" role=\"progressbar\" style=\"background-color: red; width: 0%\" aria-valuenow=\"0\" aria-valuemin=\"0\" aria-valuemax=\"100\"></div>\n",
       "</div>\n"
      ]
     },
     "metadata": {},
     "output_type": "display_data"
    },
    {
     "name": "stdout",
     "output_type": "stream",
     "text": [
      "+----------------------------------------------------------------------------------------------------------------------------------------------------------------------------------------------------------------------------------------------------------------------------------+\n",
      "|distinct_meta                                                                                                                                                                                                                                                                     |\n",
      "+----------------------------------------------------------------------------------------------------------------------------------------------------------------------------------------------------------------------------------------------------------------------------------+\n",
      "|[IS_GIF, IS_CENSORED, IS_PART_OF_ALBUM, IS_PART_OF_TOPIC, HAS_URLS, HAS_POLLS, IS_INTERNAL_SHARE, IS_INTERNAL_GROUP_SHARE, HAS_PINS, HAS_DETECTED_TEXT, IS_PROMO, HAS_MUSIC, IS_DISGUSTING, HAS_VIDEOS, HAS_TEXT, HAS_CHEATED_TEXT, HAS_PHOTOS, IS_EXTERNAL_SHARE, HAS_COMPANIONS]|\n",
      "+----------------------------------------------------------------------------------------------------------------------------------------------------------------------------------------------------------------------------------------------------------------------------------+\n",
      "\n"
     ]
    }
   ],
   "source": [
    "// Посмотрим на всякий случай метадату - кажется, из нее можно извлечь множество табличных признаков по аналогии с фидбеками\n",
    "distinct_df.select(\"distinct_meta\").show(false)"
   ]
  },
  {
   "cell_type": "code",
   "execution_count": null,
   "metadata": {},
   "outputs": [],
   "source": []
  },
  {
   "cell_type": "code",
   "execution_count": 20,
   "metadata": {},
   "outputs": [
    {
     "data": {
      "text/html": [
       "<div>\n",
       "  <span style=\"float: left;\">collect at cmd19.sc:1</span>\n",
       "</div>\n"
      ]
     },
     "metadata": {},
     "output_type": "display_data"
    },
    {
     "data": {
      "text/html": [
       "<div class=\"progress\">\n",
       "  <div class=\"progress-bar\" role=\"progressbar\" style=\"background-color: blue; width: 100%; word-wrap: normal; white-space: nowrap; text-align: center; color: white\" aria-valuenow=\"100\" aria-valuemin=\"0\" aria-valuemax=\"100\">\n",
       "    28 / 28\n",
       "  </div>\n",
       "  <div class=\"progress-bar\" role=\"progressbar\" style=\"background-color: red; width: 0%\" aria-valuenow=\"0\" aria-valuemin=\"0\" aria-valuemax=\"100\"></div>\n",
       "</div>\n"
      ]
     },
     "metadata": {},
     "output_type": "display_data"
    },
    {
     "data": {
      "text/html": [
       "<div>\n",
       "  <span style=\"float: left;\">collect at cmd19.sc:1</span>\n",
       "</div>\n"
      ]
     },
     "metadata": {},
     "output_type": "display_data"
    },
    {
     "data": {
      "text/html": [
       "<div class=\"progress\">\n",
       "  <div class=\"progress-bar\" role=\"progressbar\" style=\"background-color: blue; width: 100%; word-wrap: normal; white-space: nowrap; text-align: center; color: white\" aria-valuenow=\"100\" aria-valuemin=\"0\" aria-valuemax=\"100\">\n",
       "    1 / 1\n",
       "  </div>\n",
       "  <div class=\"progress-bar\" role=\"progressbar\" style=\"background-color: red; width: 0%\" aria-valuenow=\"0\" aria-valuemin=\"0\" aria-valuemax=\"100\"></div>\n",
       "</div>\n"
      ]
     },
     "metadata": {},
     "output_type": "display_data"
    },
    {
     "data": {
      "text/html": [
       "<div class=\"jp-RenderedText\">\n",
       "<pre><code></code></pre>\n",
       "</div>"
      ],
      "text/plain": []
     },
     "metadata": {},
     "output_type": "display_data"
    }
   ],
   "source": [
    "\n",
    "var meta_list = distinct_df.collect.map(_.getSeq[String](0).toArray).flatten"
   ]
  },
  {
   "cell_type": "code",
   "execution_count": 21,
   "metadata": {},
   "outputs": [],
   "source": [
    "// Добавим  1 и 0 для каждой реакции\n",
    "for (i <- meta_list){\n",
    "    df = df.withColumn(i, when(array_contains($\"metadata_options\", i ), 1.0).otherwise(0.0))\n",
    "}"
   ]
  },
  {
   "cell_type": "code",
   "execution_count": 22,
   "metadata": {},
   "outputs": [
    {
     "name": "stdout",
     "output_type": "stream",
     "text": [
      "root\n",
      " |-- instanceId_userId: integer (nullable = true)\n",
      " |-- instanceId_objectType: string (nullable = true)\n",
      " |-- instanceId_objectId: integer (nullable = true)\n",
      " |-- audit_pos: long (nullable = true)\n",
      " |-- audit_clientType: string (nullable = true)\n",
      " |-- audit_timestamp: long (nullable = true)\n",
      " |-- audit_timePassed: long (nullable = true)\n",
      " |-- audit_experiment: string (nullable = true)\n",
      " |-- audit_resourceType: long (nullable = true)\n",
      " |-- metadata_ownerId: integer (nullable = true)\n",
      " |-- metadata_ownerType: string (nullable = true)\n",
      " |-- metadata_createdAt: long (nullable = true)\n",
      " |-- metadata_authorId: integer (nullable = true)\n",
      " |-- metadata_applicationId: long (nullable = true)\n",
      " |-- metadata_numCompanions: integer (nullable = true)\n",
      " |-- metadata_numPhotos: integer (nullable = true)\n",
      " |-- metadata_numPolls: integer (nullable = true)\n",
      " |-- metadata_numSymbols: integer (nullable = true)\n",
      " |-- metadata_numTokens: integer (nullable = true)\n",
      " |-- metadata_numVideos: integer (nullable = true)\n",
      " |-- metadata_platform: string (nullable = true)\n",
      " |-- metadata_totalVideoLength: integer (nullable = true)\n",
      " |-- metadata_options: array (nullable = true)\n",
      " |    |-- element: string (containsNull = true)\n",
      " |-- relationsMask: long (nullable = true)\n",
      " |-- userOwnerCounters_USER_FEED_REMOVE: double (nullable = true)\n",
      " |-- userOwnerCounters_USER_PROFILE_VIEW: double (nullable = true)\n",
      " |-- userOwnerCounters_VOTE_POLL: double (nullable = true)\n",
      " |-- userOwnerCounters_USER_SEND_MESSAGE: double (nullable = true)\n",
      " |-- userOwnerCounters_USER_DELETE_MESSAGE: double (nullable = true)\n",
      " |-- userOwnerCounters_USER_INTERNAL_LIKE: double (nullable = true)\n",
      " |-- userOwnerCounters_USER_INTERNAL_UNLIKE: double (nullable = true)\n",
      " |-- userOwnerCounters_USER_STATUS_COMMENT_CREATE: double (nullable = true)\n",
      " |-- userOwnerCounters_PHOTO_COMMENT_CREATE: double (nullable = true)\n",
      " |-- userOwnerCounters_MOVIE_COMMENT_CREATE: double (nullable = true)\n",
      " |-- userOwnerCounters_USER_PHOTO_ALBUM_COMMENT_CREATE: double (nullable = true)\n",
      " |-- userOwnerCounters_COMMENT_INTERNAL_LIKE: double (nullable = true)\n",
      " |-- userOwnerCounters_USER_FORUM_MESSAGE_CREATE: double (nullable = true)\n",
      " |-- userOwnerCounters_PHOTO_MARK_CREATE: double (nullable = true)\n",
      " |-- userOwnerCounters_PHOTO_VIEW: double (nullable = true)\n",
      " |-- userOwnerCounters_PHOTO_PIN_BATCH_CREATE: double (nullable = true)\n",
      " |-- userOwnerCounters_PHOTO_PIN_UPDATE: double (nullable = true)\n",
      " |-- userOwnerCounters_USER_PRESENT_SEND: double (nullable = true)\n",
      " |-- userOwnerCounters_UNKNOWN: double (nullable = true)\n",
      " |-- userOwnerCounters_CREATE_TOPIC: double (nullable = true)\n",
      " |-- userOwnerCounters_CREATE_IMAGE: double (nullable = true)\n",
      " |-- userOwnerCounters_CREATE_MOVIE: double (nullable = true)\n",
      " |-- userOwnerCounters_CREATE_COMMENT: double (nullable = true)\n",
      " |-- userOwnerCounters_CREATE_LIKE: double (nullable = true)\n",
      " |-- userOwnerCounters_TEXT: double (nullable = true)\n",
      " |-- userOwnerCounters_IMAGE: double (nullable = true)\n",
      " |-- userOwnerCounters_VIDEO: double (nullable = true)\n",
      " |-- ownerUserCounters_USER_FEED_REMOVE: double (nullable = true)\n",
      " |-- ownerUserCounters_USER_PROFILE_VIEW: double (nullable = true)\n",
      " |-- ownerUserCounters_VOTE_POLL: double (nullable = true)\n",
      " |-- ownerUserCounters_USER_SEND_MESSAGE: double (nullable = true)\n",
      " |-- ownerUserCounters_USER_DELETE_MESSAGE: double (nullable = true)\n",
      " |-- ownerUserCounters_USER_INTERNAL_LIKE: double (nullable = true)\n",
      " |-- ownerUserCounters_USER_INTERNAL_UNLIKE: double (nullable = true)\n",
      " |-- ownerUserCounters_USER_STATUS_COMMENT_CREATE: double (nullable = true)\n",
      " |-- ownerUserCounters_PHOTO_COMMENT_CREATE: double (nullable = true)\n",
      " |-- ownerUserCounters_MOVIE_COMMENT_CREATE: double (nullable = true)\n",
      " |-- ownerUserCounters_USER_PHOTO_ALBUM_COMMENT_CREATE: double (nullable = true)\n",
      " |-- ownerUserCounters_COMMENT_INTERNAL_LIKE: double (nullable = true)\n",
      " |-- ownerUserCounters_USER_FORUM_MESSAGE_CREATE: double (nullable = true)\n",
      " |-- ownerUserCounters_PHOTO_MARK_CREATE: double (nullable = true)\n",
      " |-- ownerUserCounters_PHOTO_VIEW: double (nullable = true)\n",
      " |-- ownerUserCounters_PHOTO_PIN_BATCH_CREATE: double (nullable = true)\n",
      " |-- ownerUserCounters_PHOTO_PIN_UPDATE: double (nullable = true)\n",
      " |-- ownerUserCounters_USER_PRESENT_SEND: double (nullable = true)\n",
      " |-- ownerUserCounters_UNKNOWN: double (nullable = true)\n",
      " |-- ownerUserCounters_CREATE_TOPIC: double (nullable = true)\n",
      " |-- ownerUserCounters_CREATE_IMAGE: double (nullable = true)\n",
      " |-- ownerUserCounters_CREATE_MOVIE: double (nullable = true)\n",
      " |-- ownerUserCounters_CREATE_COMMENT: double (nullable = true)\n",
      " |-- ownerUserCounters_CREATE_LIKE: double (nullable = true)\n",
      " |-- ownerUserCounters_TEXT: double (nullable = true)\n",
      " |-- ownerUserCounters_IMAGE: double (nullable = true)\n",
      " |-- ownerUserCounters_VIDEO: double (nullable = true)\n",
      " |-- membership_status: string (nullable = true)\n",
      " |-- membership_statusUpdateDate: long (nullable = true)\n",
      " |-- membership_joinDate: long (nullable = true)\n",
      " |-- membership_joinRequestDate: long (nullable = true)\n",
      " |-- owner_create_date: long (nullable = true)\n",
      " |-- owner_birth_date: integer (nullable = true)\n",
      " |-- owner_gender: integer (nullable = true)\n",
      " |-- owner_status: integer (nullable = true)\n",
      " |-- owner_ID_country: long (nullable = true)\n",
      " |-- owner_ID_Location: integer (nullable = true)\n",
      " |-- owner_is_active: integer (nullable = true)\n",
      " |-- owner_is_deleted: integer (nullable = true)\n",
      " |-- owner_is_abused: integer (nullable = true)\n",
      " |-- owner_is_activated: integer (nullable = true)\n",
      " |-- owner_change_datime: long (nullable = true)\n",
      " |-- owner_is_semiactivated: integer (nullable = true)\n",
      " |-- owner_region: integer (nullable = true)\n",
      " |-- user_create_date: long (nullable = true)\n",
      " |-- user_birth_date: integer (nullable = true)\n",
      " |-- user_gender: integer (nullable = true)\n",
      " |-- user_status: integer (nullable = true)\n",
      " |-- user_ID_country: long (nullable = true)\n",
      " |-- user_ID_Location: integer (nullable = true)\n",
      " |-- user_is_active: integer (nullable = true)\n",
      " |-- user_is_deleted: integer (nullable = true)\n",
      " |-- user_is_abused: integer (nullable = true)\n",
      " |-- user_is_activated: integer (nullable = true)\n",
      " |-- user_change_datime: long (nullable = true)\n",
      " |-- user_is_semiactivated: integer (nullable = true)\n",
      " |-- user_region: integer (nullable = true)\n",
      " |-- feedback: array (nullable = true)\n",
      " |    |-- element: string (containsNull = true)\n",
      " |-- objectId: integer (nullable = true)\n",
      " |-- auditweights_ageMs: double (nullable = true)\n",
      " |-- auditweights_closed: double (nullable = true)\n",
      " |-- auditweights_ctr_gender: double (nullable = true)\n",
      " |-- auditweights_ctr_high: double (nullable = true)\n",
      " |-- auditweights_ctr_negative: double (nullable = true)\n",
      " |-- auditweights_dailyRecency: double (nullable = true)\n",
      " |-- auditweights_feedOwner_RECOMMENDED_GROUP: double (nullable = true)\n",
      " |-- auditweights_feedStats: double (nullable = true)\n",
      " |-- auditweights_friendCommentFeeds: double (nullable = true)\n",
      " |-- auditweights_friendCommenters: double (nullable = true)\n",
      " |-- auditweights_friendLikes: double (nullable = true)\n",
      " |-- auditweights_friendLikes_actors: double (nullable = true)\n",
      " |-- auditweights_hasDetectedText: double (nullable = true)\n",
      " |-- auditweights_hasText: double (nullable = true)\n",
      " |-- auditweights_isPymk: double (nullable = true)\n",
      " |-- auditweights_isRandom: double (nullable = true)\n",
      " |-- auditweights_likersFeedStats_hyper: double (nullable = true)\n",
      " |-- auditweights_likersSvd_prelaunch_hyper: double (nullable = true)\n",
      " |-- auditweights_matrix: double (nullable = true)\n",
      " |-- auditweights_notOriginalPhoto: double (nullable = true)\n",
      " |-- auditweights_numDislikes: double (nullable = true)\n",
      " |-- auditweights_numLikes: double (nullable = true)\n",
      " |-- auditweights_numShows: double (nullable = true)\n",
      " |-- auditweights_onlineVideo: double (nullable = true)\n",
      " |-- auditweights_partAge: double (nullable = true)\n",
      " |-- auditweights_partCtr: double (nullable = true)\n",
      " |-- auditweights_partSvd: double (nullable = true)\n",
      " |-- auditweights_processedVideo: double (nullable = true)\n",
      " |-- auditweights_relationMasks: double (nullable = true)\n",
      " |-- auditweights_source_LIVE_TOP: double (nullable = true)\n",
      " |-- auditweights_source_MOVIE_TOP: double (nullable = true)\n",
      " |-- auditweights_svd_prelaunch: double (nullable = true)\n",
      " |-- auditweights_svd_spark: double (nullable = true)\n",
      " |-- auditweights_userAge: double (nullable = true)\n",
      " |-- auditweights_userOwner_CREATE_COMMENT: double (nullable = true)\n",
      " |-- auditweights_userOwner_CREATE_IMAGE: double (nullable = true)\n",
      " |-- auditweights_userOwner_CREATE_LIKE: double (nullable = true)\n",
      " |-- auditweights_userOwner_IMAGE: double (nullable = true)\n",
      " |-- auditweights_userOwner_MOVIE_COMMENT_CREATE: double (nullable = true)\n",
      " |-- auditweights_userOwner_PHOTO_COMMENT_CREATE: double (nullable = true)\n",
      " |-- auditweights_userOwner_PHOTO_MARK_CREATE: double (nullable = true)\n",
      " |-- auditweights_userOwner_PHOTO_VIEW: double (nullable = true)\n",
      " |-- auditweights_userOwner_TEXT: double (nullable = true)\n",
      " |-- auditweights_userOwner_UNKNOWN: double (nullable = true)\n",
      " |-- auditweights_userOwner_USER_DELETE_MESSAGE: double (nullable = true)\n",
      " |-- auditweights_userOwner_USER_FEED_REMOVE: double (nullable = true)\n",
      " |-- auditweights_userOwner_USER_FORUM_MESSAGE_CREATE: double (nullable = true)\n"
     ]
    },
    {
     "name": "stdout",
     "output_type": "stream",
     "text": [
      " |-- auditweights_userOwner_USER_INTERNAL_LIKE: double (nullable = true)\n",
      " |-- auditweights_userOwner_USER_INTERNAL_UNLIKE: double (nullable = true)\n",
      " |-- auditweights_userOwner_USER_PRESENT_SEND: double (nullable = true)\n",
      " |-- auditweights_userOwner_USER_PROFILE_VIEW: double (nullable = true)\n",
      " |-- auditweights_userOwner_USER_SEND_MESSAGE: double (nullable = true)\n",
      " |-- auditweights_userOwner_USER_STATUS_COMMENT_CREATE: double (nullable = true)\n",
      " |-- auditweights_userOwner_VIDEO: double (nullable = true)\n",
      " |-- auditweights_userOwner_VOTE_POLL: double (nullable = true)\n",
      " |-- auditweights_x_ActorsRelations: long (nullable = true)\n",
      " |-- auditweights_likersSvd_spark_hyper: double (nullable = true)\n",
      " |-- auditweights_source_PROMO: double (nullable = true)\n",
      " |-- date: date (nullable = true)\n",
      " |-- Liked: double (nullable = false)\n",
      " |-- Ignored: double (nullable = false)\n",
      " |-- ReShared: double (nullable = false)\n",
      " |-- Viewed: double (nullable = false)\n",
      " |-- Complaint: double (nullable = false)\n",
      " |-- Unliked: double (nullable = false)\n",
      " |-- Commented: double (nullable = false)\n",
      " |-- Clicked: double (nullable = false)\n",
      " |-- Disliked: double (nullable = false)\n",
      " |-- IS_GIF: double (nullable = false)\n",
      " |-- IS_CENSORED: double (nullable = false)\n",
      " |-- IS_PART_OF_ALBUM: double (nullable = false)\n",
      " |-- IS_PART_OF_TOPIC: double (nullable = false)\n",
      " |-- HAS_URLS: double (nullable = false)\n",
      " |-- HAS_POLLS: double (nullable = false)\n",
      " |-- IS_INTERNAL_SHARE: double (nullable = false)\n",
      " |-- IS_INTERNAL_GROUP_SHARE: double (nullable = false)\n",
      " |-- HAS_PINS: double (nullable = false)\n",
      " |-- HAS_DETECTED_TEXT: double (nullable = false)\n",
      " |-- IS_PROMO: double (nullable = false)\n",
      " |-- HAS_MUSIC: double (nullable = false)\n",
      " |-- IS_DISGUSTING: double (nullable = false)\n",
      " |-- HAS_VIDEOS: double (nullable = false)\n",
      " |-- HAS_TEXT: double (nullable = false)\n",
      " |-- HAS_CHEATED_TEXT: double (nullable = false)\n",
      " |-- HAS_PHOTOS: double (nullable = false)\n",
      " |-- IS_EXTERNAL_SHARE: double (nullable = false)\n",
      " |-- HAS_COMPANIONS: double (nullable = false)\n",
      "\n"
     ]
    }
   ],
   "source": [
    "df.printSchema"
   ]
  },
  {
   "cell_type": "code",
   "execution_count": 23,
   "metadata": {},
   "outputs": [],
   "source": [
    "// извлечем часы, преобразуем timestamp\n",
    "df = (df\n",
    "    .withColumn(\"PosTime\", ($\"audit_timestamp\" / 1000).cast(TimestampType))\n",
    "    .withColumn(\"hourPosTime\", hour($\"PosTime\").cast(DoubleType))\n",
    "      )"
   ]
  },
  {
   "cell_type": "code",
   "execution_count": 24,
   "metadata": {},
   "outputs": [
    {
     "data": {
      "text/html": [
       "<div>\n",
       "  <span style=\"float: left;\">show at cmd23.sc:1</span>\n",
       "</div>\n"
      ]
     },
     "metadata": {},
     "output_type": "display_data"
    },
    {
     "data": {
      "text/html": [
       "<div class=\"progress\">\n",
       "  <div class=\"progress-bar\" role=\"progressbar\" style=\"background-color: blue; width: 100%; word-wrap: normal; white-space: nowrap; text-align: center; color: white\" aria-valuenow=\"100\" aria-valuemin=\"0\" aria-valuemax=\"100\">\n",
       "    1 / 1\n",
       "  </div>\n",
       "  <div class=\"progress-bar\" role=\"progressbar\" style=\"background-color: red; width: 0%\" aria-valuenow=\"0\" aria-valuemin=\"0\" aria-valuemax=\"100\"></div>\n",
       "</div>\n"
      ]
     },
     "metadata": {},
     "output_type": "display_data"
    },
    {
     "name": "stdout",
     "output_type": "stream",
     "text": [
      "+----------+-----------------------+-----------+\n",
      "|date      |PosTime                |hourPosTime|\n",
      "+----------+-----------------------+-----------+\n",
      "|2018-03-04|2018-03-04 20:08:06.477|20.0       |\n",
      "|2018-03-04|2018-03-03 21:38:46.655|21.0       |\n",
      "|2018-03-04|2018-03-04 16:33:07.538|16.0       |\n",
      "|2018-03-04|2018-03-04 07:42:19.921|7.0        |\n",
      "|2018-03-04|2018-03-04 16:23:15.763|16.0       |\n",
      "|2018-03-04|2018-03-04 10:46:51.706|10.0       |\n",
      "|2018-03-04|2018-03-04 07:42:35.325|7.0        |\n",
      "|2018-03-04|2018-03-04 07:42:35.325|7.0        |\n",
      "|2018-03-04|2018-03-04 10:24:15.559|10.0       |\n",
      "|2018-03-04|2018-03-04 16:24:08.026|16.0       |\n",
      "|2018-03-04|2018-03-04 15:29:30.539|15.0       |\n",
      "|2018-03-04|2018-03-04 14:38:06.31 |14.0       |\n",
      "|2018-03-04|2018-03-04 04:14:40.719|4.0        |\n",
      "|2018-03-04|2018-03-04 17:16:05.245|17.0       |\n",
      "|2018-03-04|2018-03-04 05:35:22.673|5.0        |\n",
      "|2018-03-04|2018-03-04 15:50:26.509|15.0       |\n",
      "|2018-03-04|2018-03-04 16:19:21.924|16.0       |\n",
      "|2018-03-04|2018-03-03 21:52:02.708|21.0       |\n",
      "|2018-03-04|2018-03-03 22:01:23.968|22.0       |\n",
      "|2018-03-04|2018-03-03 22:16:10.083|22.0       |\n",
      "+----------+-----------------------+-----------+\n",
      "only showing top 20 rows\n",
      "\n"
     ]
    }
   ],
   "source": [
    "df.select(\"date\", \"PosTime\", \"hourPosTime\").show(false)"
   ]
  },
  {
   "cell_type": "code",
   "execution_count": 25,
   "metadata": {},
   "outputs": [],
   "source": [
    "val res = df.groupBy(\"hourPosTime\").agg(sum(\"Liked\").alias(\"Liked\")).rdd"
   ]
  },
  {
   "cell_type": "code",
   "execution_count": 26,
   "metadata": {},
   "outputs": [
    {
     "data": {
      "text/html": [
       "<div>\n",
       "  <span style=\"float: left;\">rdd at cmd24.sc:1</span>\n",
       "</div>\n"
      ]
     },
     "metadata": {},
     "output_type": "display_data"
    },
    {
     "data": {
      "text/html": [
       "<div class=\"progress\">\n",
       "  <div class=\"progress-bar\" role=\"progressbar\" style=\"background-color: blue; width: 100%; word-wrap: normal; white-space: nowrap; text-align: center; color: white\" aria-valuenow=\"100\" aria-valuemin=\"0\" aria-valuemax=\"100\">\n",
       "    28 / 28\n",
       "  </div>\n",
       "  <div class=\"progress-bar\" role=\"progressbar\" style=\"background-color: red; width: 0%\" aria-valuenow=\"0\" aria-valuemin=\"0\" aria-valuemax=\"100\"></div>\n",
       "</div>\n"
      ]
     },
     "metadata": {},
     "output_type": "display_data"
    },
    {
     "data": {
      "text/html": [
       "<div>\n",
       "  <span style=\"float: left;\">collect at cmd25.sc:1</span>\n",
       "</div>\n"
      ]
     },
     "metadata": {},
     "output_type": "display_data"
    },
    {
     "data": {
      "text/html": [
       "<div class=\"progress\">\n",
       "  <div class=\"progress-bar\" role=\"progressbar\" style=\"background-color: blue; width: 100%; word-wrap: normal; white-space: nowrap; text-align: center; color: white\" aria-valuenow=\"100\" aria-valuemin=\"0\" aria-valuemax=\"100\">\n",
       "    200 / 200\n",
       "  </div>\n",
       "  <div class=\"progress-bar\" role=\"progressbar\" style=\"background-color: red; width: 0%\" aria-valuenow=\"0\" aria-valuemin=\"0\" aria-valuemax=\"100\"></div>\n",
       "</div>\n"
      ]
     },
     "metadata": {},
     "output_type": "display_data"
    }
   ],
   "source": [
    "// Соберем количество лайков в каждый час\n",
    "val arr_res = res.map(_.toSeq.toArray).map(_.map(_.toString.toDouble)).collect//.map(_.toString.toDouble)\n"
   ]
  },
  {
   "cell_type": "code",
   "execution_count": 27,
   "metadata": {},
   "outputs": [],
   "source": [
    "val matrix = DenseMatrix(arr_res:_*)"
   ]
  },
  {
   "cell_type": "code",
   "execution_count": 28,
   "metadata": {},
   "outputs": [
    {
     "data": {
      "text/html": [
       "\n",
       "      <script type=\"text/javascript\">\n",
       "        require.config({\n",
       "  paths: {\n",
       "    d3: 'https://cdnjs.cloudflare.com/ajax/libs/d3/3.5.17/d3.min',\n",
       "    plotly: 'https://cdn.plot.ly/plotly-1.41.3.min',\n",
       "    jquery: 'https://code.jquery.com/jquery-3.3.1.min'\n",
       "  },\n",
       "\n",
       "  shim: {\n",
       "    plotly: {\n",
       "      deps: ['d3', 'jquery'],\n",
       "      exports: 'plotly'\n",
       "    }\n",
       "  }\n",
       "});\n",
       "        \n",
       "\n",
       "        require(['plotly'], function(Plotly) {\n",
       "          window.Plotly = Plotly;\n",
       "        });\n",
       "      </script>\n",
       "    "
      ]
     },
     "metadata": {},
     "output_type": "display_data"
    },
    {
     "data": {
      "application/vnd.plotly.v1+json": {
       "data": [
        {
         "type": "bar",
         "x": [
          8,
          0,
          7,
          18,
          1,
          4,
          23,
          11,
          21,
          14,
          22,
          19,
          3,
          2,
          17,
          10,
          13,
          6,
          20,
          15,
          5,
          9,
          16,
          12
         ],
         "y": [
          151691,
          35654,
          150529,
          202852,
          47631,
          119202,
          32854,
          161601,
          65216,
          192460,
          40591,
          160212,
          92829,
          65415,
          216800,
          157624,
          179310,
          148278,
          111482,
          207219,
          141120,
          153337,
          216801,
          169721
         ]
        }
       ],
       "layout": {
        "title": "Количество лайков от часа в сутках"
       }
      },
      "text/html": [
       "<div class=\"chart\" id=\"plot-a9e93a4f-e3d1-4fe0-8dac-812008c14bef\"></div>\n",
       "<script>require(['plotly'], function(Plotly) {\n",
       "  (function () {\n",
       "  var data0 = {\"x\":[8.0,0.0,7.0,18.0,1.0,4.0,23.0,11.0,21.0,14.0,22.0,19.0,3.0,2.0,17.0,10.0,13.0,6.0,20.0,15.0,5.0,9.0,16.0,12.0],\"y\":[151691.0,35654.0,150529.0,202852.0,47631.0,119202.0,32854.0,161601.0,65216.0,192460.0,40591.0,160212.0,92829.0,65415.0,216800.0,157624.0,179310.0,148278.0,111482.0,207219.0,141120.0,153337.0,216801.0,169721.0],\"type\":\"bar\"};\n",
       "\n",
       "  var data = [data0];\n",
       "  var layout = {\"title\":\"Количество лайков от часа в сутках\"};\n",
       "\n",
       "  Plotly.plot('plot-a9e93a4f-e3d1-4fe0-8dac-812008c14bef', data, layout);\n",
       "})();\n",
       "});\n",
       "      </script>\n",
       "           "
      ]
     },
     "metadata": {},
     "output_type": "display_data"
    }
   ],
   "source": [
    "val trace_hist = Bar(matrix(::,0), matrix(::,1))\n",
    "trace_hist.plot(title =\"Количество лайков от часа в сутках\")\n"
   ]
  },
  {
   "cell_type": "markdown",
   "metadata": {},
   "source": [
    "Выводы по гистограмме\n",
    "<ul>\n",
    "    <li>Похоже, что нам нужно +3 часа прибавить и исходное время московске</li>\n",
    "    <li>Пиковые часы - после работы</li>\n",
    "    <li>Ночью лайки ставят меньше, потому что и пользователей меньше</li>\n",
    "    <li>Лайки ставят все время, когда бодрствует большинство</li>\n",
    "    </ul>"
   ]
  },
  {
   "cell_type": "code",
   "execution_count": 29,
   "metadata": {},
   "outputs": [
    {
     "data": {
      "text/html": [
       "<div>\n",
       "  <span style=\"float: left;\">first at RowMatrix.scala:61</span>\n",
       "</div>\n"
      ]
     },
     "metadata": {},
     "output_type": "display_data"
    },
    {
     "data": {
      "text/html": [
       "<div class=\"progress\">\n",
       "  <div class=\"progress-bar\" role=\"progressbar\" style=\"background-color: blue; width: 100%; word-wrap: normal; white-space: nowrap; text-align: center; color: white\" aria-valuenow=\"100\" aria-valuemin=\"0\" aria-valuemax=\"100\">\n",
       "    1 / 1\n",
       "  </div>\n",
       "  <div class=\"progress-bar\" role=\"progressbar\" style=\"background-color: red; width: 0%\" aria-valuenow=\"0\" aria-valuemin=\"0\" aria-valuemax=\"100\"></div>\n",
       "</div>\n"
      ]
     },
     "metadata": {},
     "output_type": "display_data"
    },
    {
     "data": {
      "text/html": [
       "<div>\n",
       "  <span style=\"float: left;\">treeAggregate at RowMatrix.scala:433</span>\n",
       "</div>\n"
      ]
     },
     "metadata": {},
     "output_type": "display_data"
    },
    {
     "data": {
      "text/html": [
       "<div class=\"progress\">\n",
       "  <div class=\"progress-bar\" role=\"progressbar\" style=\"background-color: blue; width: 100%; word-wrap: normal; white-space: nowrap; text-align: center; color: white\" aria-valuenow=\"100\" aria-valuemin=\"0\" aria-valuemax=\"100\">\n",
       "    28 / 28\n",
       "  </div>\n",
       "  <div class=\"progress-bar\" role=\"progressbar\" style=\"background-color: red; width: 0%\" aria-valuenow=\"0\" aria-valuemin=\"0\" aria-valuemax=\"100\"></div>\n",
       "</div>\n"
      ]
     },
     "metadata": {},
     "output_type": "display_data"
    },
    {
     "data": {
      "text/html": [
       "<div>\n",
       "  <span style=\"float: left;\">treeAggregate at RowMatrix.scala:433</span>\n",
       "</div>\n"
      ]
     },
     "metadata": {},
     "output_type": "display_data"
    },
    {
     "data": {
      "text/html": [
       "<div class=\"progress\">\n",
       "  <div class=\"progress-bar\" role=\"progressbar\" style=\"background-color: blue; width: 100%; word-wrap: normal; white-space: nowrap; text-align: center; color: white\" aria-valuenow=\"100\" aria-valuemin=\"0\" aria-valuemax=\"100\">\n",
       "    4 / 4\n",
       "  </div>\n",
       "  <div class=\"progress-bar\" role=\"progressbar\" style=\"background-color: red; width: 0%\" aria-valuenow=\"0\" aria-valuemin=\"0\" aria-valuemax=\"100\"></div>\n",
       "</div>\n"
      ]
     },
     "metadata": {},
     "output_type": "display_data"
    },
    {
     "data": {
      "text/html": [
       "<div>\n",
       "  <span style=\"float: left;\">treeAggregate at RowMatrix.scala:122</span>\n",
       "</div>\n"
      ]
     },
     "metadata": {},
     "output_type": "display_data"
    },
    {
     "data": {
      "text/html": [
       "<div class=\"progress\">\n",
       "  <div class=\"progress-bar\" role=\"progressbar\" style=\"background-color: blue; width: 100%; word-wrap: normal; white-space: nowrap; text-align: center; color: white\" aria-valuenow=\"100\" aria-valuemin=\"0\" aria-valuemax=\"100\">\n",
       "    28 / 28\n",
       "  </div>\n",
       "  <div class=\"progress-bar\" role=\"progressbar\" style=\"background-color: red; width: 0%\" aria-valuenow=\"0\" aria-valuemin=\"0\" aria-valuemax=\"100\"></div>\n",
       "</div>\n"
      ]
     },
     "metadata": {},
     "output_type": "display_data"
    },
    {
     "data": {
      "text/html": [
       "<div>\n",
       "  <span style=\"float: left;\">treeAggregate at RowMatrix.scala:122</span>\n",
       "</div>\n"
      ]
     },
     "metadata": {},
     "output_type": "display_data"
    },
    {
     "data": {
      "text/html": [
       "<div class=\"progress\">\n",
       "  <div class=\"progress-bar\" role=\"progressbar\" style=\"background-color: blue; width: 100%; word-wrap: normal; white-space: nowrap; text-align: center; color: white\" aria-valuenow=\"100\" aria-valuemin=\"0\" aria-valuemax=\"100\">\n",
       "    4 / 4\n",
       "  </div>\n",
       "  <div class=\"progress-bar\" role=\"progressbar\" style=\"background-color: red; width: 0%\" aria-valuenow=\"0\" aria-valuemin=\"0\" aria-valuemax=\"100\"></div>\n",
       "</div>\n"
      ]
     },
     "metadata": {},
     "output_type": "display_data"
    },
    {
     "name": "stderr",
     "output_type": "stream",
     "text": [
      "20/11/17 01:06:59 WARN BLAS: Failed to load implementation from: com.github.fommil.netlib.NativeSystemBLAS\n",
      "20/11/17 01:06:59 WARN BLAS: Failed to load implementation from: com.github.fommil.netlib.NativeRefBLAS\n"
     ]
    },
    {
     "data": {
      "text/html": [
       "<div class=\"jp-RenderedText\">\n",
       "<pre><code></code></pre>\n",
       "</div>"
      ],
      "text/plain": []
     },
     "metadata": {},
     "output_type": "display_data"
    }
   ],
   "source": [
    "var df_temp = getCorrDataFrame(df)"
   ]
  },
  {
   "cell_type": "code",
   "execution_count": 30,
   "metadata": {},
   "outputs": [
    {
     "data": {
      "text/html": [
       "<div>\n",
       "  <span style=\"float: left;\">show at cmd29.sc:7</span>\n",
       "</div>\n"
      ]
     },
     "metadata": {},
     "output_type": "display_data"
    },
    {
     "data": {
      "text/html": [
       "<div class=\"progress\">\n",
       "  <div class=\"progress-bar\" role=\"progressbar\" style=\"background-color: blue; width: 100%; word-wrap: normal; white-space: nowrap; text-align: center; color: white\" aria-valuenow=\"100\" aria-valuemin=\"0\" aria-valuemax=\"100\">\n",
       "    8 / 8\n",
       "  </div>\n",
       "  <div class=\"progress-bar\" role=\"progressbar\" style=\"background-color: red; width: 0%\" aria-valuenow=\"0\" aria-valuemin=\"0\" aria-valuemax=\"100\"></div>\n",
       "</div>\n"
      ]
     },
     "metadata": {},
     "output_type": "display_data"
    },
    {
     "name": "stdout",
     "output_type": "stream",
     "text": [
      "+----------------------------------------+----------------------+\n",
      "|ids                                     |Liked                 |\n",
      "+----------------------------------------+----------------------+\n",
      "|Ignored                                 |-0.6259039397446567   |\n",
      "|auditweights_ctr_high                   |0.14548656923887704   |\n",
      "|Disliked                                |-0.13006402694750466  |\n",
      "|ReShared                                |0.11756336473525891   |\n",
      "|auditweights_userOwner_CREATE_LIKE      |0.0930743514886664    |\n",
      "|Unliked                                 |0.09026606680206518   |\n",
      "|HAS_PHOTOS                              |0.08968884427170941   |\n",
      "|auditweights_isRandom                   |0.0893591324748627    |\n",
      "|auditweights_svd_prelaunch              |0.08727070887180428   |\n",
      "|HAS_POLLS                               |0.08324690747359784   |\n",
      "|metadata_numPolls                       |0.08114650487156008   |\n",
      "|userOwnerCounters_CREATE_LIKE           |0.08072226903427521   |\n",
      "|auditweights_svd_spark                  |0.07708519000155459   |\n",
      "|Clicked                                 |0.06857595251028224   |\n",
      "|IS_PART_OF_TOPIC                        |0.061216001681709785  |\n",
      "|HAS_URLS                                |-0.05918488271351018  |\n",
      "|IS_EXTERNAL_SHARE                       |-0.05605783626740055  |\n",
      "|userOwnerCounters_USER_FEED_REMOVE      |-0.053863863924167116 |\n",
      "|IS_PART_OF_ALBUM                        |-0.053520970848523274 |\n",
      "|auditweights_feedStats                  |0.0441181516208078    |\n",
      "|HAS_VIDEOS                              |-0.04305668742533852  |\n",
      "|auditweights_feedOwner_RECOMMENDED_GROUP|-0.04115756963269433  |\n",
      "|auditweights_notOriginalPhoto           |-0.039489728781921134 |\n",
      "|auditweights_hasText                    |-0.03908567010678405  |\n",
      "|HAS_TEXT                                |-0.03702857288745518  |\n",
      "|auditweights_processedVideo             |-0.036672244674426674 |\n",
      "|metadata_numTokens                      |-0.03328994955853094  |\n",
      "|metadata_numSymbols                     |-0.03328405797097945  |\n",
      "|auditweights_likersFeedStats_hyper      |0.03274357484307442   |\n",
      "|auditweights_dailyRecency               |-0.031598765849312115 |\n",
      "|auditweights_ageMs                      |0.02956278895862207   |\n",
      "|auditweights_likersSvd_prelaunch_hyper  |0.02946615200101314   |\n",
      "|auditweights_userOwner_USER_FEED_REMOVE |-0.028569234973465706 |\n",
      "|auditweights_likersSvd_spark_hyper      |0.027086832377158046  |\n",
      "|user_birth_date                         |0.026901957342053973  |\n",
      "|auditweights_userAge                    |-0.026898101402787956 |\n",
      "|auditweights_friendLikes_actors         |0.026227222046508944  |\n",
      "|auditweights_friendLikes                |0.025632801923254143  |\n",
      "|Viewed                                  |-0.022695693702888327 |\n",
      "|auditweights_userOwner_UNKNOWN          |-0.021647891272907754 |\n",
      "|HAS_DETECTED_TEXT                       |-0.02154119549046869  |\n",
      "|Commented                               |0.021104404127548403  |\n",
      "|auditweights_matrix                     |0.019294708491130113  |\n",
      "|IS_INTERNAL_SHARE                       |-0.01853307101941942  |\n",
      "|auditweights_numLikes                   |0.0166412254540936    |\n",
      "|IS_DISGUSTING                           |0.015893161366552513  |\n",
      "|metadata_totalVideoLength               |-0.014382995790876816 |\n",
      "|auditweights_userOwner_VIDEO            |-0.014323527429618775 |\n",
      "|user_status                             |-0.014212335333728782 |\n",
      "|metadata_numVideos                      |-0.012940317902957322 |\n",
      "|user_region                             |-0.012575595451784442 |\n",
      "|metadata_numPhotos                      |0.011189914312249319  |\n",
      "|auditweights_friendCommenters           |-0.010641340795557001 |\n",
      "|auditweights_userOwner_TEXT             |-0.010578749932477427 |\n",
      "|auditweights_friendCommentFeeds         |-0.010490977623146793 |\n",
      "|auditweights_userOwner_IMAGE            |-0.009986874531215044 |\n",
      "|IS_GIF                                  |-0.009812167468130779 |\n",
      "|user_gender                             |0.008807160657057523  |\n",
      "|auditweights_onlineVideo                |-0.007969647840699331 |\n",
      "|userOwnerCounters_IMAGE                 |-0.007647526416842875 |\n",
      "|userOwnerCounters_TEXT                  |-0.007513281321003691 |\n",
      "|HAS_CHEATED_TEXT                        |0.00668781338001243   |\n",
      "|HAS_COMPANIONS                          |-0.006600984478234802 |\n",
      "|hourPosTime                             |-0.006105400265120333 |\n",
      "|auditweights_userOwner_CREATE_IMAGE     |-0.005764345630377834 |\n",
      "|userOwnerCounters_VIDEO                 |-0.0054529463827990695|\n",
      "|HAS_PINS                                |-0.005300952015740221 |\n",
      "|metadata_numCompanions                  |-0.0048496762280642435|\n",
      "|auditweights_userOwner_CREATE_COMMENT   |0.004781881811671669  |\n",
      "|auditweights_numDislikes                |0.004699932609500084  |\n",
      "|IS_CENSORED                             |-0.004111385028863701 |\n",
      "|auditweights_ctr_gender                 |0.003031238623504327  |\n",
      "|user_is_active                          |-0.0027095354190629956|\n",
      "|user_is_abused                          |0.0023560050614014265 |\n",
      "|IS_INTERNAL_GROUP_SHARE                 |-0.002315494297353749 |\n",
      "|user_is_activated                       |-0.001789849439943252 |\n",
      "|IS_PROMO                                |-0.0016106091501884238|\n",
      "|user_ID_Location                        |0.0015402022877996865 |\n",
      "|userOwnerCounters_UNKNOWN               |-0.0014659833216695954|\n",
      "|Complaint                               |-0.001412654934825448 |\n",
      "|user_is_semiactivated                   |-8.024731083051885E-4 |\n",
      "|userOwnerCounters_CREATE_MOVIE          |8.023802180421258E-4  |\n",
      "|userOwnerCounters_CREATE_TOPIC          |8.001564301647807E-4  |\n",
      "|userOwnerCounters_CREATE_IMAGE          |-7.158002641074408E-4 |\n",
      "|auditweights_hasDetectedText            |-4.43267740927348E-4  |\n",
      "|user_is_deleted                         |3.13475982024556E-4   |\n",
      "|userOwnerCounters_CREATE_COMMENT        |-3.114967910936771E-4 |\n",
      "|auditweights_numShows                   |2.7940660550432116E-4 |\n",
      "|auditweights_closed                     |-1.0811590915222601E-4|\n",
      "|HAS_MUSIC                               |-6.868662049082002E-5 |\n",
      "|auditweights_ctr_negative               |-6.137433638057548E-5 |\n",
      "|auditweights_source_MOVIE_TOP           |5.8735078819002377E-5 |\n",
      "+----------------------------------------+----------------------+\n",
      "\n"
     ]
    }
   ],
   "source": [
    "// Рассчитаем корреляцию, хоть у нас и не континуальная переменная\n",
    "(df_temp\n",
    ".filter(!($\"ids\".isin(\"Liked\")))\n",
    ".select(\"ids\", \"Liked\").na.drop()\n",
    ".withColumn(\"abs_like\", abs($\"Liked\"))\n",
    ".orderBy(desc(\"abs_like\"))\n",
    ".select(\"ids\", \"Liked\")\n",
    ".show(148,false)\n",
    " )"
   ]
  },
  {
   "cell_type": "code",
   "execution_count": 31,
   "metadata": {},
   "outputs": [],
   "source": [
    "// Используем вместо этого roc_auc, как замену корреляции\n",
    "// Для признака с самой высокой корреляцией, не являющегося стейтом\n",
    "import org.apache.spark.mllib.evaluation.BinaryClassificationMetrics\n",
    "import org.apache.spark.mllib.regression.LabeledPoint"
   ]
  },
  {
   "cell_type": "code",
   "execution_count": 32,
   "metadata": {},
   "outputs": [],
   "source": [
    "df = df.na.fill(0)\n",
    "val predictionAndLabels = df.select($\"auditweights_ctr_high\", $\"Liked\").rdd.map(x=>(x.getDouble(0), x.getDouble(1)))//.map { case LabeledPoint(label, features) =>\n",
    "  //(rddX, rddY)\n",
    "//}"
   ]
  },
  {
   "cell_type": "code",
   "execution_count": 33,
   "metadata": {},
   "outputs": [
    {
     "data": {
      "text/html": [
       "<div>\n",
       "  <span style=\"float: left;\">map at cmd31.sc:2</span>\n",
       "</div>\n"
      ]
     },
     "metadata": {},
     "output_type": "display_data"
    },
    {
     "data": {
      "text/html": [
       "<div class=\"progress\">\n",
       "  <div class=\"progress-bar\" role=\"progressbar\" style=\"background-color: blue; width: 100%; word-wrap: normal; white-space: nowrap; text-align: center; color: white\" aria-valuenow=\"100\" aria-valuemin=\"0\" aria-valuemax=\"100\">\n",
       "    28 / 28\n",
       "  </div>\n",
       "  <div class=\"progress-bar\" role=\"progressbar\" style=\"background-color: red; width: 0%\" aria-valuenow=\"0\" aria-valuemin=\"0\" aria-valuemax=\"100\"></div>\n",
       "</div>\n"
      ]
     },
     "metadata": {},
     "output_type": "display_data"
    },
    {
     "data": {
      "text/html": [
       "<div>\n",
       "  <span style=\"float: left;\">sortByKey at BinaryClassificationMetrics.scala:155</span>\n",
       "</div>\n"
      ]
     },
     "metadata": {},
     "output_type": "display_data"
    },
    {
     "data": {
      "text/html": [
       "<div class=\"progress\">\n",
       "  <div class=\"progress-bar\" role=\"progressbar\" style=\"background-color: blue; width: 100%; word-wrap: normal; white-space: nowrap; text-align: center; color: white\" aria-valuenow=\"100\" aria-valuemin=\"0\" aria-valuemax=\"100\">\n",
       "    28 / 28\n",
       "  </div>\n",
       "  <div class=\"progress-bar\" role=\"progressbar\" style=\"background-color: red; width: 0%\" aria-valuenow=\"0\" aria-valuemin=\"0\" aria-valuemax=\"100\"></div>\n",
       "</div>\n"
      ]
     },
     "metadata": {},
     "output_type": "display_data"
    },
    {
     "data": {
      "text/html": [
       "<div>\n",
       "  <span style=\"float: left;\">combineByKey at BinaryClassificationMetrics.scala:154</span>\n",
       "</div>\n"
      ]
     },
     "metadata": {},
     "output_type": "display_data"
    },
    {
     "data": {
      "text/html": [
       "<div class=\"progress\">\n",
       "  <div class=\"progress-bar\" role=\"progressbar\" style=\"background-color: blue; width: 100%; word-wrap: normal; white-space: nowrap; text-align: center; color: white\" aria-valuenow=\"100\" aria-valuemin=\"0\" aria-valuemax=\"100\">\n",
       "    28 / 28\n",
       "  </div>\n",
       "  <div class=\"progress-bar\" role=\"progressbar\" style=\"background-color: red; width: 0%\" aria-valuenow=\"0\" aria-valuemin=\"0\" aria-valuemax=\"100\"></div>\n",
       "</div>\n"
      ]
     },
     "metadata": {},
     "output_type": "display_data"
    },
    {
     "data": {
      "text/html": [
       "<div>\n",
       "  <span style=\"float: left;\">collect at BinaryClassificationMetrics.scala:191</span>\n",
       "</div>\n"
      ]
     },
     "metadata": {},
     "output_type": "display_data"
    },
    {
     "data": {
      "text/html": [
       "<div class=\"progress\">\n",
       "  <div class=\"progress-bar\" role=\"progressbar\" style=\"background-color: blue; width: 100%; word-wrap: normal; white-space: nowrap; text-align: center; color: white\" aria-valuenow=\"100\" aria-valuemin=\"0\" aria-valuemax=\"100\">\n",
       "    28 / 28\n",
       "  </div>\n",
       "  <div class=\"progress-bar\" role=\"progressbar\" style=\"background-color: red; width: 0%\" aria-valuenow=\"0\" aria-valuemin=\"0\" aria-valuemax=\"100\"></div>\n",
       "</div>\n"
      ]
     },
     "metadata": {},
     "output_type": "display_data"
    },
    {
     "data": {
      "text/html": [
       "<div>\n",
       "  <span style=\"float: left;\">collect at SlidingRDD.scala:78</span>\n",
       "</div>\n"
      ]
     },
     "metadata": {},
     "output_type": "display_data"
    },
    {
     "data": {
      "text/html": [
       "<div class=\"progress\">\n",
       "  <div class=\"progress-bar\" role=\"progressbar\" style=\"background-color: blue; width: 100%; word-wrap: normal; white-space: nowrap; text-align: center; color: white\" aria-valuenow=\"100\" aria-valuemin=\"0\" aria-valuemax=\"100\">\n",
       "    30 / 30\n",
       "  </div>\n",
       "  <div class=\"progress-bar\" role=\"progressbar\" style=\"background-color: red; width: 0%\" aria-valuenow=\"0\" aria-valuemin=\"0\" aria-valuemax=\"100\"></div>\n",
       "</div>\n"
      ]
     },
     "metadata": {},
     "output_type": "display_data"
    },
    {
     "data": {
      "text/html": [
       "<div>\n",
       "  <span style=\"float: left;\">aggregate at AreaUnderCurve.scala:45</span>\n",
       "</div>\n"
      ]
     },
     "metadata": {},
     "output_type": "display_data"
    },
    {
     "data": {
      "text/html": [
       "<div class=\"progress\">\n",
       "  <div class=\"progress-bar\" role=\"progressbar\" style=\"background-color: blue; width: 100%; word-wrap: normal; white-space: nowrap; text-align: center; color: white\" aria-valuenow=\"100\" aria-valuemin=\"0\" aria-valuemax=\"100\">\n",
       "    29 / 29\n",
       "  </div>\n",
       "  <div class=\"progress-bar\" role=\"progressbar\" style=\"background-color: red; width: 0%\" aria-valuenow=\"0\" aria-valuemin=\"0\" aria-valuemax=\"100\"></div>\n",
       "</div>\n"
      ]
     },
     "metadata": {},
     "output_type": "display_data"
    },
    {
     "name": "stdout",
     "output_type": "stream",
     "text": [
      "Area under ROC = 0.6394043711893063\n"
     ]
    },
    {
     "data": {
      "text/html": [
       "<div class=\"jp-RenderedText\">\n",
       "<pre><code></code></pre>\n",
       "</div>"
      ],
      "text/plain": []
     },
     "metadata": {},
     "output_type": "display_data"
    }
   ],
   "source": [
    "var metrics = new BinaryClassificationMetrics(predictionAndLabels)\n",
    "\n",
    "var auROC = metrics.areaUnderROC\n",
    "println(s\"Area under ROC = $auROC\")"
   ]
  },
  {
   "cell_type": "code",
   "execution_count": 34,
   "metadata": {},
   "outputs": [
    {
     "data": {
      "text/html": [
       "<div>\n",
       "  <span style=\"float: left;\">map at cmd33.sc:1</span>\n",
       "</div>\n"
      ]
     },
     "metadata": {},
     "output_type": "display_data"
    },
    {
     "data": {
      "text/html": [
       "<div class=\"progress\">\n",
       "  <div class=\"progress-bar\" role=\"progressbar\" style=\"background-color: blue; width: 100%; word-wrap: normal; white-space: nowrap; text-align: center; color: white\" aria-valuenow=\"100\" aria-valuemin=\"0\" aria-valuemax=\"100\">\n",
       "    28 / 28\n",
       "  </div>\n",
       "  <div class=\"progress-bar\" role=\"progressbar\" style=\"background-color: red; width: 0%\" aria-valuenow=\"0\" aria-valuemin=\"0\" aria-valuemax=\"100\"></div>\n",
       "</div>\n"
      ]
     },
     "metadata": {},
     "output_type": "display_data"
    },
    {
     "data": {
      "text/html": [
       "<div>\n",
       "  <span style=\"float: left;\">sortByKey at BinaryClassificationMetrics.scala:155</span>\n",
       "</div>\n"
      ]
     },
     "metadata": {},
     "output_type": "display_data"
    },
    {
     "data": {
      "text/html": [
       "<div class=\"progress\">\n",
       "  <div class=\"progress-bar\" role=\"progressbar\" style=\"background-color: blue; width: 100%; word-wrap: normal; white-space: nowrap; text-align: center; color: white\" aria-valuenow=\"100\" aria-valuemin=\"0\" aria-valuemax=\"100\">\n",
       "    28 / 28\n",
       "  </div>\n",
       "  <div class=\"progress-bar\" role=\"progressbar\" style=\"background-color: red; width: 0%\" aria-valuenow=\"0\" aria-valuemin=\"0\" aria-valuemax=\"100\"></div>\n",
       "</div>\n"
      ]
     },
     "metadata": {},
     "output_type": "display_data"
    },
    {
     "data": {
      "text/html": [
       "<div>\n",
       "  <span style=\"float: left;\">combineByKey at BinaryClassificationMetrics.scala:154</span>\n",
       "</div>\n"
      ]
     },
     "metadata": {},
     "output_type": "display_data"
    },
    {
     "data": {
      "text/html": [
       "<div class=\"progress\">\n",
       "  <div class=\"progress-bar\" role=\"progressbar\" style=\"background-color: blue; width: 100%; word-wrap: normal; white-space: nowrap; text-align: center; color: white\" aria-valuenow=\"100\" aria-valuemin=\"0\" aria-valuemax=\"100\">\n",
       "    28 / 28\n",
       "  </div>\n",
       "  <div class=\"progress-bar\" role=\"progressbar\" style=\"background-color: red; width: 0%\" aria-valuenow=\"0\" aria-valuemin=\"0\" aria-valuemax=\"100\"></div>\n",
       "</div>\n"
      ]
     },
     "metadata": {},
     "output_type": "display_data"
    },
    {
     "data": {
      "text/html": [
       "<div>\n",
       "  <span style=\"float: left;\">collect at BinaryClassificationMetrics.scala:191</span>\n",
       "</div>\n"
      ]
     },
     "metadata": {},
     "output_type": "display_data"
    },
    {
     "data": {
      "text/html": [
       "<div class=\"progress\">\n",
       "  <div class=\"progress-bar\" role=\"progressbar\" style=\"background-color: blue; width: 100%; word-wrap: normal; white-space: nowrap; text-align: center; color: white\" aria-valuenow=\"100\" aria-valuemin=\"0\" aria-valuemax=\"100\">\n",
       "    28 / 28\n",
       "  </div>\n",
       "  <div class=\"progress-bar\" role=\"progressbar\" style=\"background-color: red; width: 0%\" aria-valuenow=\"0\" aria-valuemin=\"0\" aria-valuemax=\"100\"></div>\n",
       "</div>\n"
      ]
     },
     "metadata": {},
     "output_type": "display_data"
    },
    {
     "data": {
      "text/html": [
       "<div>\n",
       "  <span style=\"float: left;\">collect at SlidingRDD.scala:78</span>\n",
       "</div>\n"
      ]
     },
     "metadata": {},
     "output_type": "display_data"
    },
    {
     "data": {
      "text/html": [
       "<div class=\"progress\">\n",
       "  <div class=\"progress-bar\" role=\"progressbar\" style=\"background-color: blue; width: 100%; word-wrap: normal; white-space: nowrap; text-align: center; color: white\" aria-valuenow=\"100\" aria-valuemin=\"0\" aria-valuemax=\"100\">\n",
       "    30 / 30\n",
       "  </div>\n",
       "  <div class=\"progress-bar\" role=\"progressbar\" style=\"background-color: red; width: 0%\" aria-valuenow=\"0\" aria-valuemin=\"0\" aria-valuemax=\"100\"></div>\n",
       "</div>\n"
      ]
     },
     "metadata": {},
     "output_type": "display_data"
    },
    {
     "data": {
      "text/html": [
       "<div>\n",
       "  <span style=\"float: left;\">aggregate at AreaUnderCurve.scala:45</span>\n",
       "</div>\n"
      ]
     },
     "metadata": {},
     "output_type": "display_data"
    },
    {
     "data": {
      "text/html": [
       "<div class=\"progress\">\n",
       "  <div class=\"progress-bar\" role=\"progressbar\" style=\"background-color: blue; width: 100%; word-wrap: normal; white-space: nowrap; text-align: center; color: white\" aria-valuenow=\"100\" aria-valuemin=\"0\" aria-valuemax=\"100\">\n",
       "    29 / 29\n",
       "  </div>\n",
       "  <div class=\"progress-bar\" role=\"progressbar\" style=\"background-color: red; width: 0%\" aria-valuenow=\"0\" aria-valuemin=\"0\" aria-valuemax=\"100\"></div>\n",
       "</div>\n"
      ]
     },
     "metadata": {},
     "output_type": "display_data"
    },
    {
     "name": "stdout",
     "output_type": "stream",
     "text": [
      "Area under ROC = 0.5684241417191213\n"
     ]
    },
    {
     "data": {
      "text/html": [
       "<div class=\"jp-RenderedText\">\n",
       "<pre><code></code></pre>\n",
       "</div>"
      ],
      "text/plain": []
     },
     "metadata": {},
     "output_type": "display_data"
    }
   ],
   "source": [
    "val predictionAndLabels = df.select($\"auditweights_userOwner_CREATE_LIKE\", $\"Liked\").rdd.map(x=>(x.getDouble(0), x.getDouble(1)))\n",
    "var metrics = new BinaryClassificationMetrics(predictionAndLabels)\n",
    "\n",
    "var auROC = metrics.areaUnderROC\n",
    "println(s\"Area under ROC = $auROC\")"
   ]
  },
  {
   "cell_type": "markdown",
   "metadata": {},
   "source": [
    "Вывод\n",
    "<ul>\n",
    "    <li>Топ коррелирующих признаков - Ignored, auditweights_ctr_high, Disliked. кажется, что можно проигнорировать, но поставить лайк в каких-то случаях, раз корреляция не -1.0. Что станно, ну да и ладно </li>\n",
    "    <li>В  качестве альтернативы показателя корреляции был выбран roc auc, который более подходит характеру перменных, но рассчитывается много дольше</li>\n",
    "    <li>Признаки состояния в топе по корреляции, но не являются взаимоисключающими, поэтому их интеракции лучше не рассматривать и предсказывать по отдельности</li>\n",
    "    <li>Судя по корреляциям - лайк будет тяжеловато предсказать линейным моделям, возможно, стоит рассмотреть более нелинейные зависимости или нагенерировать большее количество признаков</li>\n",
    "    </ul>"
   ]
  },
  {
   "cell_type": "code",
   "execution_count": 35,
   "metadata": {},
   "outputs": [
    {
     "data": {
      "text/html": [
       "<div>\n",
       "  <span style=\"float: left;\">show at cmd34.sc:7</span>\n",
       "</div>\n"
      ]
     },
     "metadata": {},
     "output_type": "display_data"
    },
    {
     "data": {
      "text/html": [
       "<div class=\"progress\">\n",
       "  <div class=\"progress-bar\" role=\"progressbar\" style=\"background-color: blue; width: 100%; word-wrap: normal; white-space: nowrap; text-align: center; color: white\" aria-valuenow=\"100\" aria-valuemin=\"0\" aria-valuemax=\"100\">\n",
       "    8 / 8\n",
       "  </div>\n",
       "  <div class=\"progress-bar\" role=\"progressbar\" style=\"background-color: red; width: 0%\" aria-valuenow=\"0\" aria-valuemin=\"0\" aria-valuemax=\"100\"></div>\n",
       "</div>\n"
      ]
     },
     "metadata": {},
     "output_type": "display_data"
    },
    {
     "name": "stdout",
     "output_type": "stream",
     "text": [
      "+----------------------------------------+----------------------+\n",
      "|ids                                     |Disliked              |\n",
      "+----------------------------------------+----------------------+\n",
      "|auditweights_isRandom                   |-0.6967912889122876   |\n",
      "|userOwnerCounters_USER_FEED_REMOVE      |0.3923866436645584    |\n",
      "|Ignored                                 |-0.28605758071082654  |\n",
      "|auditweights_userOwner_USER_FEED_REMOVE |0.16976493341992013   |\n",
      "|auditweights_userOwner_TEXT             |0.13491129128759438   |\n",
      "|Liked                                   |-0.13006402694750466  |\n",
      "|user_birth_date                         |-0.11298292369566783  |\n",
      "|auditweights_userAge                    |0.11287331128348413   |\n",
      "|auditweights_svd_spark                  |-0.11199583097006773  |\n",
      "|auditweights_svd_prelaunch              |-0.10488271473780682  |\n",
      "|user_gender                             |-0.09162573711821928  |\n",
      "|auditweights_userOwner_IMAGE            |0.08954772814002501   |\n",
      "|Clicked                                 |-0.0864605333100034   |\n",
      "|auditweights_userOwner_CREATE_COMMENT   |0.06801359478705825   |\n",
      "|HAS_PHOTOS                              |-0.06272214116251129  |\n",
      "|auditweights_feedStats                  |0.06015656697567097   |\n",
      "|auditweights_userOwner_VIDEO            |0.05954813129022639   |\n",
      "|userOwnerCounters_VIDEO                 |0.05587630456091273   |\n",
      "|auditweights_userOwner_UNKNOWN          |0.04031181975614766   |\n",
      "|auditweights_processedVideo             |0.04006098495527863   |\n",
      "|IS_PART_OF_TOPIC                        |-0.03923728039373575  |\n",
      "|userOwnerCounters_TEXT                  |0.03838691172249415   |\n",
      "|IS_INTERNAL_SHARE                       |0.035358860455959075  |\n",
      "|auditweights_ageMs                      |-0.035056074660431924 |\n",
      "|auditweights_dailyRecency               |0.03483287289929184   |\n",
      "|auditweights_userOwner_CREATE_LIKE      |0.034679413523547406  |\n",
      "|ReShared                                |-0.03431751293382741  |\n",
      "|IS_PART_OF_ALBUM                        |0.027356923655569534  |\n",
      "|IS_INTERNAL_GROUP_SHARE                 |0.026285584291585135  |\n",
      "|auditweights_likersFeedStats_hyper      |0.0261561167120876    |\n",
      "|auditweights_likersSvd_prelaunch_hyper  |-0.025901401069382796 |\n",
      "|user_region                             |0.02496188459017966   |\n",
      "|auditweights_hasText                    |-0.02468956932052416  |\n",
      "|HAS_VIDEOS                              |0.02414940434165237   |\n",
      "|auditweights_feedOwner_RECOMMENDED_GROUP|-0.023853651616034754 |\n",
      "|metadata_numPhotos                      |-0.023509880611263235 |\n",
      "|IS_EXTERNAL_SHARE                       |0.022762951710422075  |\n",
      "|Viewed                                  |-0.022510818164974116 |\n",
      "|auditweights_likersSvd_spark_hyper      |-0.02240315300656314  |\n",
      "|userOwnerCounters_IMAGE                 |0.020829574528161858  |\n",
      "|user_status                             |0.020347474405133674  |\n",
      "|metadata_totalVideoLength               |0.017645885901914366  |\n",
      "|HAS_POLLS                               |-0.017562356172564828 |\n",
      "|metadata_numPolls                       |-0.017475196616442163 |\n",
      "|auditweights_ctr_high                   |-0.0169729552130146   |\n",
      "|auditweights_onlineVideo                |0.015988356126274306  |\n",
      "|metadata_numTokens                      |-0.014064529277538611 |\n",
      "|metadata_numSymbols                     |-0.013716780649107583 |\n",
      "|HAS_URLS                                |0.013574884324990868  |\n",
      "|auditweights_friendCommenters           |0.013444510859741242  |\n",
      "|user_ID_Location                        |-0.01324802161062826  |\n",
      "|auditweights_friendCommentFeeds         |0.01300840308846955   |\n",
      "|userOwnerCounters_CREATE_LIKE           |0.011952853482814867  |\n",
      "|auditweights_matrix                     |-0.01185879842828034  |\n",
      "|Unliked                                 |-0.011450381536104148 |\n",
      "|HAS_TEXT                                |-0.01096016804726963  |\n",
      "|Commented                               |-0.010319886444342693 |\n",
      "|auditweights_friendLikes                |0.009852808690602354  |\n",
      "|HAS_DETECTED_TEXT                       |0.009344306677421204  |\n",
      "|auditweights_friendLikes_actors         |0.008698510624306146  |\n",
      "|auditweights_notOriginalPhoto           |0.006164257960925428  |\n",
      "|auditweights_ctr_negative               |0.005747030657830495  |\n",
      "|user_is_semiactivated                   |0.005206783058647902  |\n",
      "|metadata_numVideos                      |-0.005166426633302506 |\n",
      "|HAS_MUSIC                               |0.004536173322935228  |\n",
      "|HAS_CHEATED_TEXT                        |0.004398627569057651  |\n",
      "|HAS_PINS                                |0.004368108344191442  |\n",
      "|auditweights_userOwner_CREATE_IMAGE     |0.0043183965709497904 |\n",
      "|IS_GIF                                  |0.004288919567189443  |\n",
      "|userOwnerCounters_UNKNOWN               |0.004241209446084042  |\n",
      "|userOwnerCounters_CREATE_COMMENT        |0.003972904908457895  |\n",
      "|IS_DISGUSTING                           |-0.00350384510627904  |\n",
      "|auditweights_numLikes                   |-0.003276037497154595 |\n",
      "|auditweights_numDislikes                |0.002380685621454939  |\n",
      "|auditweights_hasDetectedText            |0.0019536944538373225 |\n",
      "|hourPosTime                             |-0.0018007711789975935|\n",
      "|userOwnerCounters_CREATE_TOPIC          |-0.0016489107040561402|\n",
      "|user_is_deleted                         |0.0016433281744597974 |\n",
      "|user_is_activated                       |0.0014606742829759327 |\n",
      "|Complaint                               |-0.0010500923570477014|\n",
      "|userOwnerCounters_CREATE_IMAGE          |-0.0010056377784416837|\n",
      "|auditweights_source_MOVIE_TOP           |9.270022214302192E-4  |\n",
      "|auditweights_ctr_gender                 |-5.854602905075737E-4 |\n",
      "|IS_PROMO                                |-5.78981661235151E-4  |\n",
      "|auditweights_numShows                   |3.576674674680666E-4  |\n",
      "|userOwnerCounters_CREATE_MOVIE          |3.175347266073687E-4  |\n",
      "|HAS_COMPANIONS                          |3.148108587636202E-4  |\n",
      "|user_is_abused                          |-1.0381643487284175E-4|\n",
      "|IS_CENSORED                             |-9.245225528975273E-5 |\n",
      "|auditweights_closed                     |-7.40223171013963E-5  |\n",
      "|metadata_numCompanions                  |7.14539942309624E-5   |\n",
      "|user_is_active                          |5.861586236309553E-6  |\n",
      "+----------------------------------------+----------------------+\n",
      "\n"
     ]
    }
   ],
   "source": [
    "// Поисследуем оставшиеся реакции\n",
    "(df_temp\n",
    ".filter(!($\"ids\".isin(\"Disliked\")))\n",
    ".select(\"ids\", \"Disliked\").na.drop()\n",
    ".withColumn(\"abs_like\", abs($\"Disliked\"))\n",
    ".orderBy(desc(\"abs_like\"))\n",
    ".select(\"ids\", \"Disliked\")\n",
    ".show(148,false)\n",
    " )"
   ]
  },
  {
   "cell_type": "code",
   "execution_count": 36,
   "metadata": {},
   "outputs": [
    {
     "data": {
      "text/html": [
       "<div>\n",
       "  <span style=\"float: left;\">map at cmd35.sc:1</span>\n",
       "</div>\n"
      ]
     },
     "metadata": {},
     "output_type": "display_data"
    },
    {
     "data": {
      "text/html": [
       "<div class=\"progress\">\n",
       "  <div class=\"progress-bar\" role=\"progressbar\" style=\"background-color: blue; width: 100%; word-wrap: normal; white-space: nowrap; text-align: center; color: white\" aria-valuenow=\"100\" aria-valuemin=\"0\" aria-valuemax=\"100\">\n",
       "    28 / 28\n",
       "  </div>\n",
       "  <div class=\"progress-bar\" role=\"progressbar\" style=\"background-color: red; width: 0%\" aria-valuenow=\"0\" aria-valuemin=\"0\" aria-valuemax=\"100\"></div>\n",
       "</div>\n"
      ]
     },
     "metadata": {},
     "output_type": "display_data"
    },
    {
     "data": {
      "text/html": [
       "<div>\n",
       "  <span style=\"float: left;\">sortByKey at BinaryClassificationMetrics.scala:155</span>\n",
       "</div>\n"
      ]
     },
     "metadata": {},
     "output_type": "display_data"
    },
    {
     "data": {
      "text/html": [
       "<div class=\"progress\">\n",
       "  <div class=\"progress-bar\" role=\"progressbar\" style=\"background-color: blue; width: 100%; word-wrap: normal; white-space: nowrap; text-align: center; color: white\" aria-valuenow=\"100\" aria-valuemin=\"0\" aria-valuemax=\"100\">\n",
       "    28 / 28\n",
       "  </div>\n",
       "  <div class=\"progress-bar\" role=\"progressbar\" style=\"background-color: red; width: 0%\" aria-valuenow=\"0\" aria-valuemin=\"0\" aria-valuemax=\"100\"></div>\n",
       "</div>\n"
      ]
     },
     "metadata": {},
     "output_type": "display_data"
    },
    {
     "data": {
      "text/html": [
       "<div>\n",
       "  <span style=\"float: left;\">combineByKey at BinaryClassificationMetrics.scala:154</span>\n",
       "</div>\n"
      ]
     },
     "metadata": {},
     "output_type": "display_data"
    },
    {
     "data": {
      "text/html": [
       "<div class=\"progress\">\n",
       "  <div class=\"progress-bar\" role=\"progressbar\" style=\"background-color: blue; width: 100%; word-wrap: normal; white-space: nowrap; text-align: center; color: white\" aria-valuenow=\"100\" aria-valuemin=\"0\" aria-valuemax=\"100\">\n",
       "    28 / 28\n",
       "  </div>\n",
       "  <div class=\"progress-bar\" role=\"progressbar\" style=\"background-color: red; width: 0%\" aria-valuenow=\"0\" aria-valuemin=\"0\" aria-valuemax=\"100\"></div>\n",
       "</div>\n"
      ]
     },
     "metadata": {},
     "output_type": "display_data"
    },
    {
     "data": {
      "text/html": [
       "<div>\n",
       "  <span style=\"float: left;\">collect at BinaryClassificationMetrics.scala:191</span>\n",
       "</div>\n"
      ]
     },
     "metadata": {},
     "output_type": "display_data"
    },
    {
     "data": {
      "text/html": [
       "<div class=\"progress\">\n",
       "  <div class=\"progress-bar\" role=\"progressbar\" style=\"background-color: blue; width: 100%; word-wrap: normal; white-space: nowrap; text-align: center; color: white\" aria-valuenow=\"100\" aria-valuemin=\"0\" aria-valuemax=\"100\">\n",
       "    28 / 28\n",
       "  </div>\n",
       "  <div class=\"progress-bar\" role=\"progressbar\" style=\"background-color: red; width: 0%\" aria-valuenow=\"0\" aria-valuemin=\"0\" aria-valuemax=\"100\"></div>\n",
       "</div>\n"
      ]
     },
     "metadata": {},
     "output_type": "display_data"
    },
    {
     "data": {
      "text/html": [
       "<div>\n",
       "  <span style=\"float: left;\">collect at SlidingRDD.scala:78</span>\n",
       "</div>\n"
      ]
     },
     "metadata": {},
     "output_type": "display_data"
    },
    {
     "data": {
      "text/html": [
       "<div class=\"progress\">\n",
       "  <div class=\"progress-bar\" role=\"progressbar\" style=\"background-color: blue; width: 100%; word-wrap: normal; white-space: nowrap; text-align: center; color: white\" aria-valuenow=\"100\" aria-valuemin=\"0\" aria-valuemax=\"100\">\n",
       "    30 / 30\n",
       "  </div>\n",
       "  <div class=\"progress-bar\" role=\"progressbar\" style=\"background-color: red; width: 0%\" aria-valuenow=\"0\" aria-valuemin=\"0\" aria-valuemax=\"100\"></div>\n",
       "</div>\n"
      ]
     },
     "metadata": {},
     "output_type": "display_data"
    },
    {
     "data": {
      "text/html": [
       "<div>\n",
       "  <span style=\"float: left;\">aggregate at AreaUnderCurve.scala:45</span>\n",
       "</div>\n"
      ]
     },
     "metadata": {},
     "output_type": "display_data"
    },
    {
     "data": {
      "text/html": [
       "<div class=\"progress\">\n",
       "  <div class=\"progress-bar\" role=\"progressbar\" style=\"background-color: blue; width: 100%; word-wrap: normal; white-space: nowrap; text-align: center; color: white\" aria-valuenow=\"100\" aria-valuemin=\"0\" aria-valuemax=\"100\">\n",
       "    29 / 29\n",
       "  </div>\n",
       "  <div class=\"progress-bar\" role=\"progressbar\" style=\"background-color: red; width: 0%\" aria-valuenow=\"0\" aria-valuemin=\"0\" aria-valuemax=\"100\"></div>\n",
       "</div>\n"
      ]
     },
     "metadata": {},
     "output_type": "display_data"
    },
    {
     "name": "stdout",
     "output_type": "stream",
     "text": [
      "Area under ROC = 0.9182316768875729\n"
     ]
    },
    {
     "data": {
      "text/html": [
       "<div class=\"jp-RenderedText\">\n",
       "<pre><code></code></pre>\n",
       "</div>"
      ],
      "text/plain": []
     },
     "metadata": {},
     "output_type": "display_data"
    }
   ],
   "source": [
    "val predictionAndLabels = df.select($\"userOwnerCounters_USER_FEED_REMOVE\", $\"Disliked\").rdd.map(x=>(x.getDouble(0), x.getDouble(1)))\n",
    "var metrics = new BinaryClassificationMetrics(predictionAndLabels)\n",
    "\n",
    "var auROC = metrics.areaUnderROC\n",
    "println(s\"Area under ROC = $auROC\")"
   ]
  },
  {
   "cell_type": "markdown",
   "metadata": {},
   "source": [
    "Вывод\n",
    "<ul>\n",
    "    <li>Топ коррелирующих признаков - auditweights_isRandom, userOwnerCounters_USER_FEED_REMOVE, Ignored. Дизлайки - более сильный сигнал, тогда как лайки ставятся всем подряд, выбешивает пользователя скорее что-то конкретное, что бесило его уже ни раз. </li>\n",
    "    <li>Постановка дизлайка не взаимоисключает лайк, но при этом такие маркерные посты неплохо должны сегментировать аудиторию по контенту</li>\n",
    "    </ul>"
   ]
  },
  {
   "cell_type": "code",
   "execution_count": 37,
   "metadata": {},
   "outputs": [
    {
     "data": {
      "text/html": [
       "<div>\n",
       "  <span style=\"float: left;\">show at cmd36.sc:7</span>\n",
       "</div>\n"
      ]
     },
     "metadata": {},
     "output_type": "display_data"
    },
    {
     "data": {
      "text/html": [
       "<div class=\"progress\">\n",
       "  <div class=\"progress-bar\" role=\"progressbar\" style=\"background-color: blue; width: 100%; word-wrap: normal; white-space: nowrap; text-align: center; color: white\" aria-valuenow=\"100\" aria-valuemin=\"0\" aria-valuemax=\"100\">\n",
       "    8 / 8\n",
       "  </div>\n",
       "  <div class=\"progress-bar\" role=\"progressbar\" style=\"background-color: red; width: 0%\" aria-valuenow=\"0\" aria-valuemin=\"0\" aria-valuemax=\"100\"></div>\n",
       "</div>\n"
      ]
     },
     "metadata": {},
     "output_type": "display_data"
    },
    {
     "name": "stdout",
     "output_type": "stream",
     "text": [
      "+----------------------------------------+----------------------+\n",
      "|ids                                     |Viewed                |\n",
      "+----------------------------------------+----------------------+\n",
      "|IS_PART_OF_ALBUM                        |0.27975777751187164   |\n",
      "|IS_PART_OF_TOPIC                        |-0.2546605705256014   |\n",
      "|auditweights_notOriginalPhoto           |0.22185006917002925   |\n",
      "|auditweights_userOwner_UNKNOWN          |0.2080199359871507    |\n",
      "|HAS_DETECTED_TEXT                       |0.18544904914933244   |\n",
      "|HAS_PHOTOS                              |-0.17265714804812768  |\n",
      "|Clicked                                 |0.13755987765139271   |\n",
      "|Ignored                                 |-0.12295476219106868  |\n",
      "|IS_GIF                                  |0.10819004137063838   |\n",
      "|auditweights_userOwner_IMAGE            |0.10448937223983049   |\n",
      "|userOwnerCounters_IMAGE                 |0.096885494426535     |\n",
      "|auditweights_userOwner_CREATE_IMAGE     |0.08810351155186018   |\n",
      "|auditweights_feedStats                  |0.08473484533944903   |\n",
      "|HAS_TEXT                                |-0.07326933872607942  |\n",
      "|metadata_numPhotos                      |-0.06654216228136167  |\n",
      "|HAS_COMPANIONS                          |0.045967360563231134  |\n",
      "|IS_EXTERNAL_SHARE                       |-0.03624167162937412  |\n",
      "|userOwnerCounters_UNKNOWN               |0.03433135507394409   |\n",
      "|metadata_numCompanions                  |0.031975320775316354  |\n",
      "|auditweights_ctr_high                   |-0.03045870930983605  |\n",
      "|metadata_numVideos                      |-0.029266416225669084 |\n",
      "|HAS_VIDEOS                              |-0.027019755547908496 |\n",
      "|HAS_POLLS                               |-0.026630113227290426 |\n",
      "|auditweights_userOwner_CREATE_COMMENT   |0.026526957486983617  |\n",
      "|metadata_numPolls                       |-0.026353415242808615 |\n",
      "|metadata_numTokens                      |-0.025800383769992018 |\n",
      "|metadata_numSymbols                     |-0.025611917743907784 |\n",
      "|IS_INTERNAL_SHARE                       |-0.023015086508020095 |\n",
      "|Liked                                   |-0.022695693702888327 |\n",
      "|Disliked                                |-0.022510818164974116 |\n",
      "|auditweights_friendCommenters           |0.02035165256334395   |\n",
      "|auditweights_friendCommentFeeds         |0.01983708816489113   |\n",
      "|auditweights_svd_spark                  |-0.016730577797214735 |\n",
      "|IS_INTERNAL_GROUP_SHARE                 |-0.016102679494582772 |\n",
      "|auditweights_isRandom                   |0.015134480580451252  |\n",
      "|auditweights_processedVideo             |0.014364241874768419  |\n",
      "|auditweights_svd_prelaunch              |-0.014309127936974702 |\n",
      "|auditweights_userOwner_VIDEO            |0.013508663542304558  |\n",
      "|userOwnerCounters_TEXT                  |0.013318376215782362  |\n",
      "|userOwnerCounters_CREATE_IMAGE          |0.011789244540820795  |\n",
      "|auditweights_friendLikes                |-0.011723643721381113 |\n",
      "|auditweights_friendLikes_actors         |-0.011268036450434706 |\n",
      "|userOwnerCounters_CREATE_COMMENT        |0.011241160873061125  |\n",
      "|auditweights_feedOwner_RECOMMENDED_GROUP|-0.009845005448636637 |\n",
      "|auditweights_hasText                    |-0.009695600867922273 |\n",
      "|auditweights_ageMs                      |-0.008714678337203314 |\n",
      "|userOwnerCounters_USER_FEED_REMOVE      |-0.008661777691035714 |\n",
      "|HAS_MUSIC                               |-0.008640481370170695 |\n",
      "|userOwnerCounters_VIDEO                 |0.008310378709275531  |\n",
      "|auditweights_dailyRecency               |0.008080382567536242  |\n",
      "|auditweights_likersSvd_spark_hyper      |-0.0073493925406293206|\n",
      "|HAS_URLS                                |-0.007310268806967658 |\n",
      "|user_gender                             |-0.006787944355277014 |\n",
      "|hourPosTime                             |0.005911232585064381  |\n",
      "|auditweights_source_MOVIE_TOP           |0.005898870606766003  |\n",
      "|auditweights_userOwner_TEXT             |0.005781136003326243  |\n",
      "|user_status                             |0.005625795074500604  |\n",
      "|IS_DISGUSTING                           |-0.005608605375593318 |\n",
      "|Commented                               |0.005598312451950314  |\n",
      "|auditweights_likersSvd_prelaunch_hyper  |-0.005323167048898621 |\n",
      "|auditweights_likersFeedStats_hyper      |-0.00509088907581751  |\n",
      "|auditweights_numLikes                   |-0.004814336847214664 |\n",
      "|auditweights_userAge                    |0.003822599445783281  |\n",
      "|user_birth_date                         |-0.0038066052819544405|\n",
      "|auditweights_onlineVideo                |-0.00344719126019759  |\n",
      "|auditweights_hasDetectedText            |0.0033806849085641715 |\n",
      "|auditweights_matrix                     |-0.0033107935347724245|\n",
      "|auditweights_userOwner_CREATE_LIKE      |-0.0033074489989652353|\n",
      "|auditweights_numDislikes                |-0.003214076267923413 |\n",
      "|userOwnerCounters_CREATE_TOPIC          |0.0031403808553431695 |\n",
      "|HAS_PINS                                |-0.0031393979269444933|\n",
      "|userOwnerCounters_CREATE_MOVIE          |0.0031007365097242344 |\n",
      "|HAS_CHEATED_TEXT                        |-0.002632685761041558 |\n",
      "|auditweights_userOwner_USER_FEED_REMOVE |0.0021944085669012574 |\n",
      "|metadata_totalVideoLength               |-0.0020275530211003663|\n",
      "|userOwnerCounters_CREATE_LIKE           |0.001730576086537909  |\n",
      "|IS_CENSORED                             |-0.0016632371200825209|\n",
      "|user_ID_Location                        |-0.0016522086917272758|\n",
      "|ReShared                                |0.001449595960493597  |\n",
      "|auditweights_ctr_gender                 |-0.001336656436012505 |\n",
      "|auditweights_numShows                   |0.0010412898382428572 |\n",
      "|user_region                             |8.950158637976994E-4  |\n",
      "|Unliked                                 |7.627216524521113E-4  |\n",
      "|user_is_semiactivated                   |-6.878092873675737E-4 |\n",
      "|user_is_deleted                         |5.613779173687326E-4  |\n",
      "|user_is_abused                          |-4.116786873533622E-4 |\n",
      "|IS_PROMO                                |-3.8313039286393835E-4|\n",
      "|auditweights_ctr_negative               |-3.767010958988642E-4 |\n",
      "|user_is_activated                       |3.320926485620486E-4  |\n",
      "|user_is_active                          |1.6522471570055717E-4 |\n",
      "|Complaint                               |-6.691886719262191E-5 |\n",
      "|auditweights_closed                     |-2.2654798516161058E-5|\n",
      "+----------------------------------------+----------------------+\n",
      "\n"
     ]
    }
   ],
   "source": [
    "(df_temp\n",
    ".filter(!($\"ids\".isin(\"Viewed\")))\n",
    ".select(\"ids\", \"Viewed\").na.drop()\n",
    ".withColumn(\"abs_like\", abs($\"Viewed\"))\n",
    ".orderBy(desc(\"abs_like\"))\n",
    ".select(\"ids\", \"Viewed\")\n",
    ".show(148,false)\n",
    " )"
   ]
  },
  {
   "cell_type": "code",
   "execution_count": 38,
   "metadata": {},
   "outputs": [
    {
     "data": {
      "text/html": [
       "<div>\n",
       "  <span style=\"float: left;\">map at cmd37.sc:1</span>\n",
       "</div>\n"
      ]
     },
     "metadata": {},
     "output_type": "display_data"
    },
    {
     "data": {
      "text/html": [
       "<div class=\"progress\">\n",
       "  <div class=\"progress-bar\" role=\"progressbar\" style=\"background-color: blue; width: 100%; word-wrap: normal; white-space: nowrap; text-align: center; color: white\" aria-valuenow=\"100\" aria-valuemin=\"0\" aria-valuemax=\"100\">\n",
       "    28 / 28\n",
       "  </div>\n",
       "  <div class=\"progress-bar\" role=\"progressbar\" style=\"background-color: red; width: 0%\" aria-valuenow=\"0\" aria-valuemin=\"0\" aria-valuemax=\"100\"></div>\n",
       "</div>\n"
      ]
     },
     "metadata": {},
     "output_type": "display_data"
    },
    {
     "data": {
      "text/html": [
       "<div>\n",
       "  <span style=\"float: left;\">sortByKey at BinaryClassificationMetrics.scala:155</span>\n",
       "</div>\n"
      ]
     },
     "metadata": {},
     "output_type": "display_data"
    },
    {
     "data": {
      "text/html": [
       "<div class=\"progress\">\n",
       "  <div class=\"progress-bar\" role=\"progressbar\" style=\"background-color: blue; width: 100%; word-wrap: normal; white-space: nowrap; text-align: center; color: white\" aria-valuenow=\"100\" aria-valuemin=\"0\" aria-valuemax=\"100\">\n",
       "    28 / 28\n",
       "  </div>\n",
       "  <div class=\"progress-bar\" role=\"progressbar\" style=\"background-color: red; width: 0%\" aria-valuenow=\"0\" aria-valuemin=\"0\" aria-valuemax=\"100\"></div>\n",
       "</div>\n"
      ]
     },
     "metadata": {},
     "output_type": "display_data"
    },
    {
     "data": {
      "text/html": [
       "<div>\n",
       "  <span style=\"float: left;\">combineByKey at BinaryClassificationMetrics.scala:154</span>\n",
       "</div>\n"
      ]
     },
     "metadata": {},
     "output_type": "display_data"
    },
    {
     "data": {
      "text/html": [
       "<div class=\"progress\">\n",
       "  <div class=\"progress-bar\" role=\"progressbar\" style=\"background-color: blue; width: 100%; word-wrap: normal; white-space: nowrap; text-align: center; color: white\" aria-valuenow=\"100\" aria-valuemin=\"0\" aria-valuemax=\"100\">\n",
       "    28 / 28\n",
       "  </div>\n",
       "  <div class=\"progress-bar\" role=\"progressbar\" style=\"background-color: red; width: 0%\" aria-valuenow=\"0\" aria-valuemin=\"0\" aria-valuemax=\"100\"></div>\n",
       "</div>\n"
      ]
     },
     "metadata": {},
     "output_type": "display_data"
    },
    {
     "data": {
      "text/html": [
       "<div>\n",
       "  <span style=\"float: left;\">collect at BinaryClassificationMetrics.scala:191</span>\n",
       "</div>\n"
      ]
     },
     "metadata": {},
     "output_type": "display_data"
    },
    {
     "data": {
      "text/html": [
       "<div class=\"progress\">\n",
       "  <div class=\"progress-bar bg-success\" role=\"progressbar\" style=\"width: 0%; word-wrap: normal; white-space: nowrap; text-align: center; color: white\" aria-valuenow=\"0\" aria-valuemin=\"0\" aria-valuemax=\"100\">\n",
       "    0 / 2\n",
       "  </div>\n",
       "</div>\n"
      ]
     },
     "metadata": {},
     "output_type": "display_data"
    },
    {
     "data": {
      "text/html": [
       "<div>\n",
       "  <span style=\"float: left;\">collect at SlidingRDD.scala:78</span>\n",
       "</div>\n"
      ]
     },
     "metadata": {},
     "output_type": "display_data"
    },
    {
     "data": {
      "text/html": [
       "<div class=\"progress\">\n",
       "  <div class=\"progress-bar\" role=\"progressbar\" style=\"background-color: blue; width: 100%; word-wrap: normal; white-space: nowrap; text-align: center; color: white\" aria-valuenow=\"100\" aria-valuemin=\"0\" aria-valuemax=\"100\">\n",
       "    4 / 4\n",
       "  </div>\n",
       "  <div class=\"progress-bar\" role=\"progressbar\" style=\"background-color: red; width: 0%\" aria-valuenow=\"0\" aria-valuemin=\"0\" aria-valuemax=\"100\"></div>\n",
       "</div>\n"
      ]
     },
     "metadata": {},
     "output_type": "display_data"
    },
    {
     "data": {
      "text/html": [
       "<div>\n",
       "  <span style=\"float: left;\">aggregate at AreaUnderCurve.scala:45</span>\n",
       "</div>\n"
      ]
     },
     "metadata": {},
     "output_type": "display_data"
    },
    {
     "data": {
      "text/html": [
       "<div class=\"progress\">\n",
       "  <div class=\"progress-bar\" role=\"progressbar\" style=\"background-color: blue; width: 100%; word-wrap: normal; white-space: nowrap; text-align: center; color: white\" aria-valuenow=\"100\" aria-valuemin=\"0\" aria-valuemax=\"100\">\n",
       "    3 / 3\n",
       "  </div>\n",
       "  <div class=\"progress-bar\" role=\"progressbar\" style=\"background-color: red; width: 0%\" aria-valuenow=\"0\" aria-valuemin=\"0\" aria-valuemax=\"100\"></div>\n",
       "</div>\n"
      ]
     },
     "metadata": {},
     "output_type": "display_data"
    },
    {
     "name": "stdout",
     "output_type": "stream",
     "text": [
      "Area under ROC = 0.7428428156828181\n"
     ]
    },
    {
     "data": {
      "text/html": [
       "<div class=\"jp-RenderedText\">\n",
       "<pre><code></code></pre>\n",
       "</div>"
      ],
      "text/plain": []
     },
     "metadata": {},
     "output_type": "display_data"
    }
   ],
   "source": [
    "val predictionAndLabels = df.select($\"auditweights_notOriginalPhoto\", $\"Viewed\").rdd.map(x=>(x.getDouble(0), x.getDouble(1)))\n",
    "var metrics = new BinaryClassificationMetrics(predictionAndLabels)\n",
    "\n",
    "var auROC = metrics.areaUnderROC\n",
    "println(s\"Area under ROC = $auROC\")"
   ]
  },
  {
   "cell_type": "markdown",
   "metadata": {},
   "source": [
    "Вывод\n",
    "<ul>\n",
    "    <li>Топ коррелирующих признаков - auditweights_notOriginalPhoto, auditweights_userOwner_UNKNOWN, IS_PART_OF_ALBUM, IS_PART_OF_TOPIC. Подозреваю, что не оригинальное фото - это мемы и их смотрят чаще всего. Также люди интересуются незнакомцами. </li>\n",
    "    <li>Кажется, чт реакции просмотра и дизлайка более обхяснимы текущими признаками</li>\n",
    "    <li>Признаки состояния в топе по корреляции, но не являются взаимоисключающими, поэтому их интеракции лучше не рассматривать и предсказывать по отдельности</li>\n",
    "    </ul>"
   ]
  },
  {
   "cell_type": "code",
   "execution_count": null,
   "metadata": {},
   "outputs": [],
   "source": []
  }
 ],
 "metadata": {
  "kernelspec": {
   "display_name": "Scala 2.12",
   "language": "scala",
   "name": "scala212"
  },
  "language_info": {
   "codemirror_mode": "text/x-scala",
   "file_extension": ".sc",
   "mimetype": "text/x-scala",
   "name": "scala",
   "nbconvert_exporter": "script",
   "version": "2.12.12"
  }
 },
 "nbformat": 4,
 "nbformat_minor": 4
}
